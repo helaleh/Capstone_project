{
 "cells": [
  {
   "cell_type": "markdown",
   "metadata": {},
   "source": [
    "<div id=\"container\" style=\"position:relative;\">\n",
    "<div style=\"float:left\"><h1> Exploratory Data Analysis </h1></div>\n"
   ]
  },
  {
   "cell_type": "code",
   "execution_count": 1,
   "metadata": {},
   "outputs": [],
   "source": [
    "import pandas as pd\n",
    "import numpy as np\n",
    "import matplotlib.pyplot as plt\n",
    "%matplotlib inline\n",
    "import plotly.express as px\n",
    "import plotly.graph_objects as go"
   ]
  },
  {
   "cell_type": "markdown",
   "metadata": {},
   "source": [
    "# Reading the database from three tables"
   ]
  },
  {
   "cell_type": "code",
   "execution_count": 68,
   "metadata": {},
   "outputs": [],
   "source": [
    "df_confirm=pd.read_csv('Corona_cases\\Confirmed.csv')# this is for confirmed cases\n",
    "df_death=pd.read_csv('Corona_cases\\deaths.csv') # the number of death\n",
    "df_recoverd=pd.read_csv('recoverd_2019.csv')# the number of recovered"
   ]
  },
  {
   "cell_type": "markdown",
   "metadata": {},
   "source": [
    "### Trying to create line_datas to make a graph of the spread of affected people over time globaly:"
   ]
  },
  {
   "cell_type": "code",
   "execution_count": 69,
   "metadata": {},
   "outputs": [],
   "source": [
    "line_datas=[]\n",
    "for i in [df_confirm,df_death,df_recoverd]:\n",
    "    i.drop(labels=['Province/State','Lat','Long','total'],axis=1,inplace=True)\n",
    "    df=i.groupby('Country/Region').sum().reset_index()\n",
    "    df_melt=pd.melt(df,id_vars=['Country/Region'])\n",
    "    df_melt['variable']=pd.to_datetime(df_melt['variable'])\n",
    "    df_melt.sort_values(by='variable')\n",
    "    line_datas.append(pd.DataFrame(df_melt.groupby('variable')['value'].sum().reset_index()))\n",
    "   "
   ]
  },
  {
   "cell_type": "code",
   "execution_count": 70,
   "metadata": {
    "collapsed": true
   },
   "outputs": [
    {
     "data": {
      "application/vnd.plotly.v1+json": {
       "config": {
        "plotlyServerURL": "https://plot.ly"
       },
       "data": [
        {
         "mode": "lines",
         "name": "confirmed:/",
         "type": "scatter",
         "x": [
          "2020-01-22T00:00:00",
          "2020-01-23T00:00:00",
          "2020-01-24T00:00:00",
          "2020-01-25T00:00:00",
          "2020-01-26T00:00:00",
          "2020-01-27T00:00:00",
          "2020-01-28T00:00:00",
          "2020-01-29T00:00:00",
          "2020-01-30T00:00:00",
          "2020-01-31T00:00:00",
          "2020-02-01T00:00:00",
          "2020-02-02T00:00:00",
          "2020-02-03T00:00:00",
          "2020-02-04T00:00:00",
          "2020-02-05T00:00:00",
          "2020-02-06T00:00:00",
          "2020-02-07T00:00:00",
          "2020-02-08T00:00:00",
          "2020-02-09T00:00:00",
          "2020-02-10T00:00:00",
          "2020-02-11T00:00:00",
          "2020-02-12T00:00:00",
          "2020-02-13T00:00:00",
          "2020-02-14T00:00:00",
          "2020-02-15T00:00:00",
          "2020-02-16T00:00:00",
          "2020-02-17T00:00:00",
          "2020-02-18T00:00:00",
          "2020-02-19T00:00:00",
          "2020-02-20T00:00:00"
         ],
         "y": [
          555,
          100,
          288,
          493,
          684,
          809,
          2651,
          588,
          2068,
          1693,
          2111,
          4749,
          3094,
          4011,
          3744,
          3182,
          3614,
          2729,
          3030,
          2612,
          2040,
          419,
          15148,
          6517,
          2145,
          2194,
          2034,
          1878,
          503,
          558
         ]
        },
        {
         "mode": "lines",
         "name": "deaths:(",
         "type": "scatter",
         "x": [
          "2020-01-22T00:00:00",
          "2020-01-23T00:00:00",
          "2020-01-24T00:00:00",
          "2020-01-25T00:00:00",
          "2020-01-26T00:00:00",
          "2020-01-27T00:00:00",
          "2020-01-28T00:00:00",
          "2020-01-29T00:00:00",
          "2020-01-30T00:00:00",
          "2020-01-31T00:00:00",
          "2020-02-01T00:00:00",
          "2020-02-02T00:00:00",
          "2020-02-03T00:00:00",
          "2020-02-04T00:00:00",
          "2020-02-05T00:00:00",
          "2020-02-06T00:00:00",
          "2020-02-07T00:00:00",
          "2020-02-08T00:00:00",
          "2020-02-09T00:00:00",
          "2020-02-10T00:00:00",
          "2020-02-11T00:00:00",
          "2020-02-12T00:00:00",
          "2020-02-13T00:00:00",
          "2020-02-14T00:00:00",
          "2020-02-15T00:00:00",
          "2020-02-16T00:00:00",
          "2020-02-17T00:00:00",
          "2020-02-18T00:00:00",
          "2020-02-19T00:00:00",
          "2020-02-20T00:00:00"
         ],
         "y": [
          17,
          18,
          9,
          18,
          16,
          30,
          55,
          57,
          46,
          51,
          55,
          113,
          76,
          78,
          85,
          85,
          101,
          107,
          126,
          139,
          139,
          156,
          303,
          213,
          209,
          174,
          172,
          218,
          201,
          218
         ]
        },
        {
         "mode": "lines",
         "name": "Recovered:)",
         "type": "scatter",
         "x": [
          "2020-01-22T00:00:00",
          "2020-01-23T00:00:00",
          "2020-01-24T00:00:00",
          "2020-01-25T00:00:00",
          "2020-01-26T00:00:00",
          "2020-01-27T00:00:00",
          "2020-01-28T00:00:00",
          "2020-01-29T00:00:00",
          "2020-01-30T00:00:00",
          "2020-01-31T00:00:00",
          "2020-02-01T00:00:00",
          "2020-02-02T00:00:00",
          "2020-02-03T00:00:00",
          "2020-02-04T00:00:00",
          "2020-02-05T00:00:00",
          "2020-02-06T00:00:00",
          "2020-02-07T00:00:00",
          "2020-02-08T00:00:00",
          "2020-02-09T00:00:00",
          "2020-02-10T00:00:00",
          "2020-02-11T00:00:00",
          "2020-02-12T00:00:00",
          "2020-02-13T00:00:00",
          "2020-02-14T00:00:00",
          "2020-02-15T00:00:00",
          "2020-02-16T00:00:00",
          "2020-02-17T00:00:00",
          "2020-02-18T00:00:00",
          "2020-02-19T00:00:00",
          "2020-02-20T00:00:00"
         ],
         "y": [
          28,
          13,
          6,
          24,
          13,
          9,
          46,
          19,
          17,
          79,
          62,
          188,
          151,
          229,
          272,
          363,
          524,
          605,
          628,
          702,
          737,
          467,
          1145,
          1763,
          1337,
          1470,
          1718,
          1769,
          1769,
          2056
         ]
        }
       ],
       "layout": {
        "height": 500,
        "template": {
         "data": {
          "bar": [
           {
            "error_x": {
             "color": "#2a3f5f"
            },
            "error_y": {
             "color": "#2a3f5f"
            },
            "marker": {
             "line": {
              "color": "#E5ECF6",
              "width": 0.5
             }
            },
            "type": "bar"
           }
          ],
          "barpolar": [
           {
            "marker": {
             "line": {
              "color": "#E5ECF6",
              "width": 0.5
             }
            },
            "type": "barpolar"
           }
          ],
          "carpet": [
           {
            "aaxis": {
             "endlinecolor": "#2a3f5f",
             "gridcolor": "white",
             "linecolor": "white",
             "minorgridcolor": "white",
             "startlinecolor": "#2a3f5f"
            },
            "baxis": {
             "endlinecolor": "#2a3f5f",
             "gridcolor": "white",
             "linecolor": "white",
             "minorgridcolor": "white",
             "startlinecolor": "#2a3f5f"
            },
            "type": "carpet"
           }
          ],
          "choropleth": [
           {
            "colorbar": {
             "outlinewidth": 0,
             "ticks": ""
            },
            "type": "choropleth"
           }
          ],
          "contour": [
           {
            "colorbar": {
             "outlinewidth": 0,
             "ticks": ""
            },
            "colorscale": [
             [
              0,
              "#0d0887"
             ],
             [
              0.1111111111111111,
              "#46039f"
             ],
             [
              0.2222222222222222,
              "#7201a8"
             ],
             [
              0.3333333333333333,
              "#9c179e"
             ],
             [
              0.4444444444444444,
              "#bd3786"
             ],
             [
              0.5555555555555556,
              "#d8576b"
             ],
             [
              0.6666666666666666,
              "#ed7953"
             ],
             [
              0.7777777777777778,
              "#fb9f3a"
             ],
             [
              0.8888888888888888,
              "#fdca26"
             ],
             [
              1,
              "#f0f921"
             ]
            ],
            "type": "contour"
           }
          ],
          "contourcarpet": [
           {
            "colorbar": {
             "outlinewidth": 0,
             "ticks": ""
            },
            "type": "contourcarpet"
           }
          ],
          "heatmap": [
           {
            "colorbar": {
             "outlinewidth": 0,
             "ticks": ""
            },
            "colorscale": [
             [
              0,
              "#0d0887"
             ],
             [
              0.1111111111111111,
              "#46039f"
             ],
             [
              0.2222222222222222,
              "#7201a8"
             ],
             [
              0.3333333333333333,
              "#9c179e"
             ],
             [
              0.4444444444444444,
              "#bd3786"
             ],
             [
              0.5555555555555556,
              "#d8576b"
             ],
             [
              0.6666666666666666,
              "#ed7953"
             ],
             [
              0.7777777777777778,
              "#fb9f3a"
             ],
             [
              0.8888888888888888,
              "#fdca26"
             ],
             [
              1,
              "#f0f921"
             ]
            ],
            "type": "heatmap"
           }
          ],
          "heatmapgl": [
           {
            "colorbar": {
             "outlinewidth": 0,
             "ticks": ""
            },
            "colorscale": [
             [
              0,
              "#0d0887"
             ],
             [
              0.1111111111111111,
              "#46039f"
             ],
             [
              0.2222222222222222,
              "#7201a8"
             ],
             [
              0.3333333333333333,
              "#9c179e"
             ],
             [
              0.4444444444444444,
              "#bd3786"
             ],
             [
              0.5555555555555556,
              "#d8576b"
             ],
             [
              0.6666666666666666,
              "#ed7953"
             ],
             [
              0.7777777777777778,
              "#fb9f3a"
             ],
             [
              0.8888888888888888,
              "#fdca26"
             ],
             [
              1,
              "#f0f921"
             ]
            ],
            "type": "heatmapgl"
           }
          ],
          "histogram": [
           {
            "marker": {
             "colorbar": {
              "outlinewidth": 0,
              "ticks": ""
             }
            },
            "type": "histogram"
           }
          ],
          "histogram2d": [
           {
            "colorbar": {
             "outlinewidth": 0,
             "ticks": ""
            },
            "colorscale": [
             [
              0,
              "#0d0887"
             ],
             [
              0.1111111111111111,
              "#46039f"
             ],
             [
              0.2222222222222222,
              "#7201a8"
             ],
             [
              0.3333333333333333,
              "#9c179e"
             ],
             [
              0.4444444444444444,
              "#bd3786"
             ],
             [
              0.5555555555555556,
              "#d8576b"
             ],
             [
              0.6666666666666666,
              "#ed7953"
             ],
             [
              0.7777777777777778,
              "#fb9f3a"
             ],
             [
              0.8888888888888888,
              "#fdca26"
             ],
             [
              1,
              "#f0f921"
             ]
            ],
            "type": "histogram2d"
           }
          ],
          "histogram2dcontour": [
           {
            "colorbar": {
             "outlinewidth": 0,
             "ticks": ""
            },
            "colorscale": [
             [
              0,
              "#0d0887"
             ],
             [
              0.1111111111111111,
              "#46039f"
             ],
             [
              0.2222222222222222,
              "#7201a8"
             ],
             [
              0.3333333333333333,
              "#9c179e"
             ],
             [
              0.4444444444444444,
              "#bd3786"
             ],
             [
              0.5555555555555556,
              "#d8576b"
             ],
             [
              0.6666666666666666,
              "#ed7953"
             ],
             [
              0.7777777777777778,
              "#fb9f3a"
             ],
             [
              0.8888888888888888,
              "#fdca26"
             ],
             [
              1,
              "#f0f921"
             ]
            ],
            "type": "histogram2dcontour"
           }
          ],
          "mesh3d": [
           {
            "colorbar": {
             "outlinewidth": 0,
             "ticks": ""
            },
            "type": "mesh3d"
           }
          ],
          "parcoords": [
           {
            "line": {
             "colorbar": {
              "outlinewidth": 0,
              "ticks": ""
             }
            },
            "type": "parcoords"
           }
          ],
          "scatter": [
           {
            "marker": {
             "colorbar": {
              "outlinewidth": 0,
              "ticks": ""
             }
            },
            "type": "scatter"
           }
          ],
          "scatter3d": [
           {
            "line": {
             "colorbar": {
              "outlinewidth": 0,
              "ticks": ""
             }
            },
            "marker": {
             "colorbar": {
              "outlinewidth": 0,
              "ticks": ""
             }
            },
            "type": "scatter3d"
           }
          ],
          "scattercarpet": [
           {
            "marker": {
             "colorbar": {
              "outlinewidth": 0,
              "ticks": ""
             }
            },
            "type": "scattercarpet"
           }
          ],
          "scattergeo": [
           {
            "marker": {
             "colorbar": {
              "outlinewidth": 0,
              "ticks": ""
             }
            },
            "type": "scattergeo"
           }
          ],
          "scattergl": [
           {
            "marker": {
             "colorbar": {
              "outlinewidth": 0,
              "ticks": ""
             }
            },
            "type": "scattergl"
           }
          ],
          "scattermapbox": [
           {
            "marker": {
             "colorbar": {
              "outlinewidth": 0,
              "ticks": ""
             }
            },
            "type": "scattermapbox"
           }
          ],
          "scatterpolar": [
           {
            "marker": {
             "colorbar": {
              "outlinewidth": 0,
              "ticks": ""
             }
            },
            "type": "scatterpolar"
           }
          ],
          "scatterpolargl": [
           {
            "marker": {
             "colorbar": {
              "outlinewidth": 0,
              "ticks": ""
             }
            },
            "type": "scatterpolargl"
           }
          ],
          "scatterternary": [
           {
            "marker": {
             "colorbar": {
              "outlinewidth": 0,
              "ticks": ""
             }
            },
            "type": "scatterternary"
           }
          ],
          "surface": [
           {
            "colorbar": {
             "outlinewidth": 0,
             "ticks": ""
            },
            "colorscale": [
             [
              0,
              "#0d0887"
             ],
             [
              0.1111111111111111,
              "#46039f"
             ],
             [
              0.2222222222222222,
              "#7201a8"
             ],
             [
              0.3333333333333333,
              "#9c179e"
             ],
             [
              0.4444444444444444,
              "#bd3786"
             ],
             [
              0.5555555555555556,
              "#d8576b"
             ],
             [
              0.6666666666666666,
              "#ed7953"
             ],
             [
              0.7777777777777778,
              "#fb9f3a"
             ],
             [
              0.8888888888888888,
              "#fdca26"
             ],
             [
              1,
              "#f0f921"
             ]
            ],
            "type": "surface"
           }
          ],
          "table": [
           {
            "cells": {
             "fill": {
              "color": "#EBF0F8"
             },
             "line": {
              "color": "white"
             }
            },
            "header": {
             "fill": {
              "color": "#C8D4E3"
             },
             "line": {
              "color": "white"
             }
            },
            "type": "table"
           }
          ]
         },
         "layout": {
          "annotationdefaults": {
           "arrowcolor": "#2a3f5f",
           "arrowhead": 0,
           "arrowwidth": 1
          },
          "colorscale": {
           "diverging": [
            [
             0,
             "#8e0152"
            ],
            [
             0.1,
             "#c51b7d"
            ],
            [
             0.2,
             "#de77ae"
            ],
            [
             0.3,
             "#f1b6da"
            ],
            [
             0.4,
             "#fde0ef"
            ],
            [
             0.5,
             "#f7f7f7"
            ],
            [
             0.6,
             "#e6f5d0"
            ],
            [
             0.7,
             "#b8e186"
            ],
            [
             0.8,
             "#7fbc41"
            ],
            [
             0.9,
             "#4d9221"
            ],
            [
             1,
             "#276419"
            ]
           ],
           "sequential": [
            [
             0,
             "#0d0887"
            ],
            [
             0.1111111111111111,
             "#46039f"
            ],
            [
             0.2222222222222222,
             "#7201a8"
            ],
            [
             0.3333333333333333,
             "#9c179e"
            ],
            [
             0.4444444444444444,
             "#bd3786"
            ],
            [
             0.5555555555555556,
             "#d8576b"
            ],
            [
             0.6666666666666666,
             "#ed7953"
            ],
            [
             0.7777777777777778,
             "#fb9f3a"
            ],
            [
             0.8888888888888888,
             "#fdca26"
            ],
            [
             1,
             "#f0f921"
            ]
           ],
           "sequentialminus": [
            [
             0,
             "#0d0887"
            ],
            [
             0.1111111111111111,
             "#46039f"
            ],
            [
             0.2222222222222222,
             "#7201a8"
            ],
            [
             0.3333333333333333,
             "#9c179e"
            ],
            [
             0.4444444444444444,
             "#bd3786"
            ],
            [
             0.5555555555555556,
             "#d8576b"
            ],
            [
             0.6666666666666666,
             "#ed7953"
            ],
            [
             0.7777777777777778,
             "#fb9f3a"
            ],
            [
             0.8888888888888888,
             "#fdca26"
            ],
            [
             1,
             "#f0f921"
            ]
           ]
          },
          "colorway": [
           "#636efa",
           "#EF553B",
           "#00cc96",
           "#ab63fa",
           "#FFA15A",
           "#19d3f3",
           "#FF6692",
           "#B6E880",
           "#FF97FF",
           "#FECB52"
          ],
          "font": {
           "color": "#2a3f5f"
          },
          "geo": {
           "bgcolor": "white",
           "lakecolor": "white",
           "landcolor": "#E5ECF6",
           "showlakes": true,
           "showland": true,
           "subunitcolor": "white"
          },
          "hoverlabel": {
           "align": "left"
          },
          "hovermode": "closest",
          "mapbox": {
           "style": "light"
          },
          "paper_bgcolor": "white",
          "plot_bgcolor": "#E5ECF6",
          "polar": {
           "angularaxis": {
            "gridcolor": "white",
            "linecolor": "white",
            "ticks": ""
           },
           "bgcolor": "#E5ECF6",
           "radialaxis": {
            "gridcolor": "white",
            "linecolor": "white",
            "ticks": ""
           }
          },
          "scene": {
           "xaxis": {
            "backgroundcolor": "#E5ECF6",
            "gridcolor": "white",
            "gridwidth": 2,
            "linecolor": "white",
            "showbackground": true,
            "ticks": "",
            "zerolinecolor": "white"
           },
           "yaxis": {
            "backgroundcolor": "#E5ECF6",
            "gridcolor": "white",
            "gridwidth": 2,
            "linecolor": "white",
            "showbackground": true,
            "ticks": "",
            "zerolinecolor": "white"
           },
           "zaxis": {
            "backgroundcolor": "#E5ECF6",
            "gridcolor": "white",
            "gridwidth": 2,
            "linecolor": "white",
            "showbackground": true,
            "ticks": "",
            "zerolinecolor": "white"
           }
          },
          "shapedefaults": {
           "line": {
            "color": "#2a3f5f"
           }
          },
          "ternary": {
           "aaxis": {
            "gridcolor": "white",
            "linecolor": "white",
            "ticks": ""
           },
           "baxis": {
            "gridcolor": "white",
            "linecolor": "white",
            "ticks": ""
           },
           "bgcolor": "#E5ECF6",
           "caxis": {
            "gridcolor": "white",
            "linecolor": "white",
            "ticks": ""
           }
          },
          "title": {
           "x": 0.05
          },
          "xaxis": {
           "automargin": true,
           "gridcolor": "white",
           "linecolor": "white",
           "ticks": "",
           "zerolinecolor": "white",
           "zerolinewidth": 2
          },
          "yaxis": {
           "automargin": true,
           "gridcolor": "white",
           "linecolor": "white",
           "ticks": "",
           "zerolinecolor": "white",
           "zerolinewidth": 2
          }
         }
        },
        "title": {
         "text": "Confirmed cases, Recovered cases, and Death Over Time",
         "x": 0.5,
         "xanchor": "center",
         "y": 0.85
        },
        "width": 900,
        "xaxis": {
         "tickangle": -45,
         "tickvals": [
          "2020-01-22T00:00:00",
          "2020-01-23T00:00:00",
          "2020-01-24T00:00:00",
          "2020-01-25T00:00:00",
          "2020-01-26T00:00:00",
          "2020-01-27T00:00:00",
          "2020-01-28T00:00:00",
          "2020-01-29T00:00:00",
          "2020-01-30T00:00:00",
          "2020-01-31T00:00:00",
          "2020-02-01T00:00:00",
          "2020-02-02T00:00:00",
          "2020-02-03T00:00:00",
          "2020-02-04T00:00:00",
          "2020-02-05T00:00:00",
          "2020-02-06T00:00:00",
          "2020-02-07T00:00:00",
          "2020-02-08T00:00:00",
          "2020-02-09T00:00:00",
          "2020-02-10T00:00:00",
          "2020-02-11T00:00:00",
          "2020-02-12T00:00:00",
          "2020-02-13T00:00:00",
          "2020-02-14T00:00:00",
          "2020-02-15T00:00:00",
          "2020-02-16T00:00:00",
          "2020-02-17T00:00:00",
          "2020-02-18T00:00:00",
          "2020-02-19T00:00:00",
          "2020-02-20T00:00:00"
         ],
         "title": {
          "text": "Date"
         }
        },
        "yaxis": {
         "title": {
          "text": "Number of instances"
         }
        }
       }
      },
      "text/html": [
       "<div>\n",
       "        \n",
       "        \n",
       "            <div id=\"9b614560-7ec6-4e1c-b8c3-b7fd148ac05f\" class=\"plotly-graph-div\" style=\"height:500px; width:900px;\"></div>\n",
       "            <script type=\"text/javascript\">\n",
       "                require([\"plotly\"], function(Plotly) {\n",
       "                    window.PLOTLYENV=window.PLOTLYENV || {};\n",
       "                    \n",
       "                if (document.getElementById(\"9b614560-7ec6-4e1c-b8c3-b7fd148ac05f\")) {\n",
       "                    Plotly.newPlot(\n",
       "                        '9b614560-7ec6-4e1c-b8c3-b7fd148ac05f',\n",
       "                        [{\"mode\": \"lines\", \"name\": \"confirmed:/\", \"type\": \"scatter\", \"x\": [\"2020-01-22T00:00:00\", \"2020-01-23T00:00:00\", \"2020-01-24T00:00:00\", \"2020-01-25T00:00:00\", \"2020-01-26T00:00:00\", \"2020-01-27T00:00:00\", \"2020-01-28T00:00:00\", \"2020-01-29T00:00:00\", \"2020-01-30T00:00:00\", \"2020-01-31T00:00:00\", \"2020-02-01T00:00:00\", \"2020-02-02T00:00:00\", \"2020-02-03T00:00:00\", \"2020-02-04T00:00:00\", \"2020-02-05T00:00:00\", \"2020-02-06T00:00:00\", \"2020-02-07T00:00:00\", \"2020-02-08T00:00:00\", \"2020-02-09T00:00:00\", \"2020-02-10T00:00:00\", \"2020-02-11T00:00:00\", \"2020-02-12T00:00:00\", \"2020-02-13T00:00:00\", \"2020-02-14T00:00:00\", \"2020-02-15T00:00:00\", \"2020-02-16T00:00:00\", \"2020-02-17T00:00:00\", \"2020-02-18T00:00:00\", \"2020-02-19T00:00:00\", \"2020-02-20T00:00:00\"], \"y\": [555, 100, 288, 493, 684, 809, 2651, 588, 2068, 1693, 2111, 4749, 3094, 4011, 3744, 3182, 3614, 2729, 3030, 2612, 2040, 419, 15148, 6517, 2145, 2194, 2034, 1878, 503, 558]}, {\"mode\": \"lines\", \"name\": \"deaths:(\", \"type\": \"scatter\", \"x\": [\"2020-01-22T00:00:00\", \"2020-01-23T00:00:00\", \"2020-01-24T00:00:00\", \"2020-01-25T00:00:00\", \"2020-01-26T00:00:00\", \"2020-01-27T00:00:00\", \"2020-01-28T00:00:00\", \"2020-01-29T00:00:00\", \"2020-01-30T00:00:00\", \"2020-01-31T00:00:00\", \"2020-02-01T00:00:00\", \"2020-02-02T00:00:00\", \"2020-02-03T00:00:00\", \"2020-02-04T00:00:00\", \"2020-02-05T00:00:00\", \"2020-02-06T00:00:00\", \"2020-02-07T00:00:00\", \"2020-02-08T00:00:00\", \"2020-02-09T00:00:00\", \"2020-02-10T00:00:00\", \"2020-02-11T00:00:00\", \"2020-02-12T00:00:00\", \"2020-02-13T00:00:00\", \"2020-02-14T00:00:00\", \"2020-02-15T00:00:00\", \"2020-02-16T00:00:00\", \"2020-02-17T00:00:00\", \"2020-02-18T00:00:00\", \"2020-02-19T00:00:00\", \"2020-02-20T00:00:00\"], \"y\": [17, 18, 9, 18, 16, 30, 55, 57, 46, 51, 55, 113, 76, 78, 85, 85, 101, 107, 126, 139, 139, 156, 303, 213, 209, 174, 172, 218, 201, 218]}, {\"mode\": \"lines\", \"name\": \"Recovered:)\", \"type\": \"scatter\", \"x\": [\"2020-01-22T00:00:00\", \"2020-01-23T00:00:00\", \"2020-01-24T00:00:00\", \"2020-01-25T00:00:00\", \"2020-01-26T00:00:00\", \"2020-01-27T00:00:00\", \"2020-01-28T00:00:00\", \"2020-01-29T00:00:00\", \"2020-01-30T00:00:00\", \"2020-01-31T00:00:00\", \"2020-02-01T00:00:00\", \"2020-02-02T00:00:00\", \"2020-02-03T00:00:00\", \"2020-02-04T00:00:00\", \"2020-02-05T00:00:00\", \"2020-02-06T00:00:00\", \"2020-02-07T00:00:00\", \"2020-02-08T00:00:00\", \"2020-02-09T00:00:00\", \"2020-02-10T00:00:00\", \"2020-02-11T00:00:00\", \"2020-02-12T00:00:00\", \"2020-02-13T00:00:00\", \"2020-02-14T00:00:00\", \"2020-02-15T00:00:00\", \"2020-02-16T00:00:00\", \"2020-02-17T00:00:00\", \"2020-02-18T00:00:00\", \"2020-02-19T00:00:00\", \"2020-02-20T00:00:00\"], \"y\": [28, 13, 6, 24, 13, 9, 46, 19, 17, 79, 62, 188, 151, 229, 272, 363, 524, 605, 628, 702, 737, 467, 1145, 1763, 1337, 1470, 1718, 1769, 1769, 2056]}],\n",
       "                        {\"height\": 500, \"template\": {\"data\": {\"bar\": [{\"error_x\": {\"color\": \"#2a3f5f\"}, \"error_y\": {\"color\": \"#2a3f5f\"}, \"marker\": {\"line\": {\"color\": \"#E5ECF6\", \"width\": 0.5}}, \"type\": \"bar\"}], \"barpolar\": [{\"marker\": {\"line\": {\"color\": \"#E5ECF6\", \"width\": 0.5}}, \"type\": \"barpolar\"}], \"carpet\": [{\"aaxis\": {\"endlinecolor\": \"#2a3f5f\", \"gridcolor\": \"white\", \"linecolor\": \"white\", \"minorgridcolor\": \"white\", \"startlinecolor\": \"#2a3f5f\"}, \"baxis\": {\"endlinecolor\": \"#2a3f5f\", \"gridcolor\": \"white\", \"linecolor\": \"white\", \"minorgridcolor\": \"white\", \"startlinecolor\": \"#2a3f5f\"}, \"type\": \"carpet\"}], \"choropleth\": [{\"colorbar\": {\"outlinewidth\": 0, \"ticks\": \"\"}, \"type\": \"choropleth\"}], \"contour\": [{\"colorbar\": {\"outlinewidth\": 0, \"ticks\": \"\"}, \"colorscale\": [[0.0, \"#0d0887\"], [0.1111111111111111, \"#46039f\"], [0.2222222222222222, \"#7201a8\"], [0.3333333333333333, \"#9c179e\"], [0.4444444444444444, \"#bd3786\"], [0.5555555555555556, \"#d8576b\"], [0.6666666666666666, \"#ed7953\"], [0.7777777777777778, \"#fb9f3a\"], [0.8888888888888888, \"#fdca26\"], [1.0, \"#f0f921\"]], \"type\": \"contour\"}], \"contourcarpet\": [{\"colorbar\": {\"outlinewidth\": 0, \"ticks\": \"\"}, \"type\": \"contourcarpet\"}], \"heatmap\": [{\"colorbar\": {\"outlinewidth\": 0, \"ticks\": \"\"}, \"colorscale\": [[0.0, \"#0d0887\"], [0.1111111111111111, \"#46039f\"], [0.2222222222222222, \"#7201a8\"], [0.3333333333333333, \"#9c179e\"], [0.4444444444444444, \"#bd3786\"], [0.5555555555555556, \"#d8576b\"], [0.6666666666666666, \"#ed7953\"], [0.7777777777777778, \"#fb9f3a\"], [0.8888888888888888, \"#fdca26\"], [1.0, \"#f0f921\"]], \"type\": \"heatmap\"}], \"heatmapgl\": [{\"colorbar\": {\"outlinewidth\": 0, \"ticks\": \"\"}, \"colorscale\": [[0.0, \"#0d0887\"], [0.1111111111111111, \"#46039f\"], [0.2222222222222222, \"#7201a8\"], [0.3333333333333333, \"#9c179e\"], [0.4444444444444444, \"#bd3786\"], [0.5555555555555556, \"#d8576b\"], [0.6666666666666666, \"#ed7953\"], [0.7777777777777778, \"#fb9f3a\"], [0.8888888888888888, \"#fdca26\"], [1.0, \"#f0f921\"]], \"type\": \"heatmapgl\"}], \"histogram\": [{\"marker\": {\"colorbar\": {\"outlinewidth\": 0, \"ticks\": \"\"}}, \"type\": \"histogram\"}], \"histogram2d\": [{\"colorbar\": {\"outlinewidth\": 0, \"ticks\": \"\"}, \"colorscale\": [[0.0, \"#0d0887\"], [0.1111111111111111, \"#46039f\"], [0.2222222222222222, \"#7201a8\"], [0.3333333333333333, \"#9c179e\"], [0.4444444444444444, \"#bd3786\"], [0.5555555555555556, \"#d8576b\"], [0.6666666666666666, \"#ed7953\"], [0.7777777777777778, \"#fb9f3a\"], [0.8888888888888888, \"#fdca26\"], [1.0, \"#f0f921\"]], \"type\": \"histogram2d\"}], \"histogram2dcontour\": [{\"colorbar\": {\"outlinewidth\": 0, \"ticks\": \"\"}, \"colorscale\": [[0.0, \"#0d0887\"], [0.1111111111111111, \"#46039f\"], [0.2222222222222222, \"#7201a8\"], [0.3333333333333333, \"#9c179e\"], [0.4444444444444444, \"#bd3786\"], [0.5555555555555556, \"#d8576b\"], [0.6666666666666666, \"#ed7953\"], [0.7777777777777778, \"#fb9f3a\"], [0.8888888888888888, \"#fdca26\"], [1.0, \"#f0f921\"]], \"type\": \"histogram2dcontour\"}], \"mesh3d\": [{\"colorbar\": {\"outlinewidth\": 0, \"ticks\": \"\"}, \"type\": \"mesh3d\"}], \"parcoords\": [{\"line\": {\"colorbar\": {\"outlinewidth\": 0, \"ticks\": \"\"}}, \"type\": \"parcoords\"}], \"scatter\": [{\"marker\": {\"colorbar\": {\"outlinewidth\": 0, \"ticks\": \"\"}}, \"type\": \"scatter\"}], \"scatter3d\": [{\"line\": {\"colorbar\": {\"outlinewidth\": 0, \"ticks\": \"\"}}, \"marker\": {\"colorbar\": {\"outlinewidth\": 0, \"ticks\": \"\"}}, \"type\": \"scatter3d\"}], \"scattercarpet\": [{\"marker\": {\"colorbar\": {\"outlinewidth\": 0, \"ticks\": \"\"}}, \"type\": \"scattercarpet\"}], \"scattergeo\": [{\"marker\": {\"colorbar\": {\"outlinewidth\": 0, \"ticks\": \"\"}}, \"type\": \"scattergeo\"}], \"scattergl\": [{\"marker\": {\"colorbar\": {\"outlinewidth\": 0, \"ticks\": \"\"}}, \"type\": \"scattergl\"}], \"scattermapbox\": [{\"marker\": {\"colorbar\": {\"outlinewidth\": 0, \"ticks\": \"\"}}, \"type\": \"scattermapbox\"}], \"scatterpolar\": [{\"marker\": {\"colorbar\": {\"outlinewidth\": 0, \"ticks\": \"\"}}, \"type\": \"scatterpolar\"}], \"scatterpolargl\": [{\"marker\": {\"colorbar\": {\"outlinewidth\": 0, \"ticks\": \"\"}}, \"type\": \"scatterpolargl\"}], \"scatterternary\": [{\"marker\": {\"colorbar\": {\"outlinewidth\": 0, \"ticks\": \"\"}}, \"type\": \"scatterternary\"}], \"surface\": [{\"colorbar\": {\"outlinewidth\": 0, \"ticks\": \"\"}, \"colorscale\": [[0.0, \"#0d0887\"], [0.1111111111111111, \"#46039f\"], [0.2222222222222222, \"#7201a8\"], [0.3333333333333333, \"#9c179e\"], [0.4444444444444444, \"#bd3786\"], [0.5555555555555556, \"#d8576b\"], [0.6666666666666666, \"#ed7953\"], [0.7777777777777778, \"#fb9f3a\"], [0.8888888888888888, \"#fdca26\"], [1.0, \"#f0f921\"]], \"type\": \"surface\"}], \"table\": [{\"cells\": {\"fill\": {\"color\": \"#EBF0F8\"}, \"line\": {\"color\": \"white\"}}, \"header\": {\"fill\": {\"color\": \"#C8D4E3\"}, \"line\": {\"color\": \"white\"}}, \"type\": \"table\"}]}, \"layout\": {\"annotationdefaults\": {\"arrowcolor\": \"#2a3f5f\", \"arrowhead\": 0, \"arrowwidth\": 1}, \"colorscale\": {\"diverging\": [[0, \"#8e0152\"], [0.1, \"#c51b7d\"], [0.2, \"#de77ae\"], [0.3, \"#f1b6da\"], [0.4, \"#fde0ef\"], [0.5, \"#f7f7f7\"], [0.6, \"#e6f5d0\"], [0.7, \"#b8e186\"], [0.8, \"#7fbc41\"], [0.9, \"#4d9221\"], [1, \"#276419\"]], \"sequential\": [[0.0, \"#0d0887\"], [0.1111111111111111, \"#46039f\"], [0.2222222222222222, \"#7201a8\"], [0.3333333333333333, \"#9c179e\"], [0.4444444444444444, \"#bd3786\"], [0.5555555555555556, \"#d8576b\"], [0.6666666666666666, \"#ed7953\"], [0.7777777777777778, \"#fb9f3a\"], [0.8888888888888888, \"#fdca26\"], [1.0, \"#f0f921\"]], \"sequentialminus\": [[0.0, \"#0d0887\"], [0.1111111111111111, \"#46039f\"], [0.2222222222222222, \"#7201a8\"], [0.3333333333333333, \"#9c179e\"], [0.4444444444444444, \"#bd3786\"], [0.5555555555555556, \"#d8576b\"], [0.6666666666666666, \"#ed7953\"], [0.7777777777777778, \"#fb9f3a\"], [0.8888888888888888, \"#fdca26\"], [1.0, \"#f0f921\"]]}, \"colorway\": [\"#636efa\", \"#EF553B\", \"#00cc96\", \"#ab63fa\", \"#FFA15A\", \"#19d3f3\", \"#FF6692\", \"#B6E880\", \"#FF97FF\", \"#FECB52\"], \"font\": {\"color\": \"#2a3f5f\"}, \"geo\": {\"bgcolor\": \"white\", \"lakecolor\": \"white\", \"landcolor\": \"#E5ECF6\", \"showlakes\": true, \"showland\": true, \"subunitcolor\": \"white\"}, \"hoverlabel\": {\"align\": \"left\"}, \"hovermode\": \"closest\", \"mapbox\": {\"style\": \"light\"}, \"paper_bgcolor\": \"white\", \"plot_bgcolor\": \"#E5ECF6\", \"polar\": {\"angularaxis\": {\"gridcolor\": \"white\", \"linecolor\": \"white\", \"ticks\": \"\"}, \"bgcolor\": \"#E5ECF6\", \"radialaxis\": {\"gridcolor\": \"white\", \"linecolor\": \"white\", \"ticks\": \"\"}}, \"scene\": {\"xaxis\": {\"backgroundcolor\": \"#E5ECF6\", \"gridcolor\": \"white\", \"gridwidth\": 2, \"linecolor\": \"white\", \"showbackground\": true, \"ticks\": \"\", \"zerolinecolor\": \"white\"}, \"yaxis\": {\"backgroundcolor\": \"#E5ECF6\", \"gridcolor\": \"white\", \"gridwidth\": 2, \"linecolor\": \"white\", \"showbackground\": true, \"ticks\": \"\", \"zerolinecolor\": \"white\"}, \"zaxis\": {\"backgroundcolor\": \"#E5ECF6\", \"gridcolor\": \"white\", \"gridwidth\": 2, \"linecolor\": \"white\", \"showbackground\": true, \"ticks\": \"\", \"zerolinecolor\": \"white\"}}, \"shapedefaults\": {\"line\": {\"color\": \"#2a3f5f\"}}, \"ternary\": {\"aaxis\": {\"gridcolor\": \"white\", \"linecolor\": \"white\", \"ticks\": \"\"}, \"baxis\": {\"gridcolor\": \"white\", \"linecolor\": \"white\", \"ticks\": \"\"}, \"bgcolor\": \"#E5ECF6\", \"caxis\": {\"gridcolor\": \"white\", \"linecolor\": \"white\", \"ticks\": \"\"}}, \"title\": {\"x\": 0.05}, \"xaxis\": {\"automargin\": true, \"gridcolor\": \"white\", \"linecolor\": \"white\", \"ticks\": \"\", \"zerolinecolor\": \"white\", \"zerolinewidth\": 2}, \"yaxis\": {\"automargin\": true, \"gridcolor\": \"white\", \"linecolor\": \"white\", \"ticks\": \"\", \"zerolinecolor\": \"white\", \"zerolinewidth\": 2}}}, \"title\": {\"text\": \"Confirmed cases, Recovered cases, and Death Over Time\", \"x\": 0.5, \"xanchor\": \"center\", \"y\": 0.85}, \"width\": 900, \"xaxis\": {\"tickangle\": -45, \"tickvals\": [\"2020-01-22T00:00:00\", \"2020-01-23T00:00:00\", \"2020-01-24T00:00:00\", \"2020-01-25T00:00:00\", \"2020-01-26T00:00:00\", \"2020-01-27T00:00:00\", \"2020-01-28T00:00:00\", \"2020-01-29T00:00:00\", \"2020-01-30T00:00:00\", \"2020-01-31T00:00:00\", \"2020-02-01T00:00:00\", \"2020-02-02T00:00:00\", \"2020-02-03T00:00:00\", \"2020-02-04T00:00:00\", \"2020-02-05T00:00:00\", \"2020-02-06T00:00:00\", \"2020-02-07T00:00:00\", \"2020-02-08T00:00:00\", \"2020-02-09T00:00:00\", \"2020-02-10T00:00:00\", \"2020-02-11T00:00:00\", \"2020-02-12T00:00:00\", \"2020-02-13T00:00:00\", \"2020-02-14T00:00:00\", \"2020-02-15T00:00:00\", \"2020-02-16T00:00:00\", \"2020-02-17T00:00:00\", \"2020-02-18T00:00:00\", \"2020-02-19T00:00:00\", \"2020-02-20T00:00:00\"], \"title\": {\"text\": \"Date\"}}, \"yaxis\": {\"title\": {\"text\": \"Number of instances\"}}},\n",
       "                        {\"responsive\": true}\n",
       "                    ).then(function(){\n",
       "                            \n",
       "var gd = document.getElementById('9b614560-7ec6-4e1c-b8c3-b7fd148ac05f');\n",
       "var x = new MutationObserver(function (mutations, observer) {{\n",
       "        var display = window.getComputedStyle(gd).display;\n",
       "        if (!display || display === 'none') {{\n",
       "            console.log([gd, 'removed!']);\n",
       "            Plotly.purge(gd);\n",
       "            observer.disconnect();\n",
       "        }}\n",
       "}});\n",
       "\n",
       "// Listen for the removal of the full notebook cells\n",
       "var notebookContainer = gd.closest('#notebook-container');\n",
       "if (notebookContainer) {{\n",
       "    x.observe(notebookContainer, {childList: true});\n",
       "}}\n",
       "\n",
       "// Listen for the clearing of the current output cell\n",
       "var outputEl = gd.closest('.output');\n",
       "if (outputEl) {{\n",
       "    x.observe(outputEl, {childList: true});\n",
       "}}\n",
       "\n",
       "                        })\n",
       "                };\n",
       "                });\n",
       "            </script>\n",
       "        </div>"
      ]
     },
     "metadata": {},
     "output_type": "display_data"
    }
   ],
   "source": [
    "line_data1 = go.Scatter(x=line_datas[0]['variable'],y = line_datas[0]['value'], name=\"confirmed:/\",mode='lines')\n",
    "line_data2 = go.Scatter(x=line_datas[1]['variable'],y = line_datas[1]['value'], name=\"deaths:(\",mode='lines')\n",
    "line_data3 = go.Scatter(x=line_datas[2]['variable'],y = line_datas[2]['value'], name=\"Recovered:)\",mode='lines')\n",
    "\n",
    "\n",
    "fig = go.Figure(data=[line_data1,line_data2,line_data3],\n",
    "    layout=go.Layout(width=900,height=500,xaxis_title='Date', yaxis_title='Number of instances'))\n",
    "fig.update_layout(xaxis=dict(tickvals=line_datas[0]['variable'],tickangle=-45),\n",
    "                 title={'text':'Confirmed cases, Recovered cases, and Death Over Time',\n",
    "                        'x':0.5,\n",
    "                        'y':0.85,\n",
    "                        'xanchor':'center',\n",
    "                       })\n",
    "fig.show()"
   ]
  },
  {
   "cell_type": "code",
   "execution_count": 71,
   "metadata": {},
   "outputs": [],
   "source": [
    "df=df_confirm1.groupby('Country/Region').sum().reset_index()"
   ]
  },
  {
   "cell_type": "code",
   "execution_count": 72,
   "metadata": {},
   "outputs": [],
   "source": [
    "df.drop(labels=['Lat','Long'],axis=1,inplace=True) #.iloc[:,:].sum(axis=1)"
   ]
  },
  {
   "cell_type": "code",
   "execution_count": 73,
   "metadata": {},
   "outputs": [],
   "source": [
    "df_sort=df.sort_values(by='total',ascending=False).head(20)\n",
    "df_sort.reset_index(inplace=True)\n"
   ]
  },
  {
   "cell_type": "code",
   "execution_count": 74,
   "metadata": {
    "scrolled": true
   },
   "outputs": [
    {
     "data": {
      "text/html": [
       "<div>\n",
       "<style scoped>\n",
       "    .dataframe tbody tr th:only-of-type {\n",
       "        vertical-align: middle;\n",
       "    }\n",
       "\n",
       "    .dataframe tbody tr th {\n",
       "        vertical-align: top;\n",
       "    }\n",
       "\n",
       "    .dataframe thead th {\n",
       "        text-align: right;\n",
       "    }\n",
       "</style>\n",
       "<table border=\"1\" class=\"dataframe\">\n",
       "  <thead>\n",
       "    <tr style=\"text-align: right;\">\n",
       "      <th></th>\n",
       "      <th>index</th>\n",
       "      <th>Country/Region</th>\n",
       "      <th>total</th>\n",
       "    </tr>\n",
       "  </thead>\n",
       "  <tbody>\n",
       "    <tr>\n",
       "      <td>0</td>\n",
       "      <td>14</td>\n",
       "      <td>Mainland China</td>\n",
       "      <td>74999</td>\n",
       "    </tr>\n",
       "    <tr>\n",
       "      <td>1</td>\n",
       "      <td>17</td>\n",
       "      <td>Others</td>\n",
       "      <td>634</td>\n",
       "    </tr>\n",
       "    <tr>\n",
       "      <td>2</td>\n",
       "      <td>12</td>\n",
       "      <td>Japan</td>\n",
       "      <td>136</td>\n",
       "    </tr>\n",
       "    <tr>\n",
       "      <td>3</td>\n",
       "      <td>21</td>\n",
       "      <td>South Korea</td>\n",
       "      <td>104</td>\n",
       "    </tr>\n",
       "    <tr>\n",
       "      <td>4</td>\n",
       "      <td>20</td>\n",
       "      <td>Singapore</td>\n",
       "      <td>84</td>\n",
       "    </tr>\n",
       "  </tbody>\n",
       "</table>\n",
       "</div>"
      ],
      "text/plain": [
       "   index  Country/Region  total\n",
       "0     14  Mainland China  74999\n",
       "1     17          Others    634\n",
       "2     12           Japan    136\n",
       "3     21     South Korea    104\n",
       "4     20       Singapore     84"
      ]
     },
     "execution_count": 74,
     "metadata": {},
     "output_type": "execute_result"
    }
   ],
   "source": [
    "df_sort.head()"
   ]
  },
  {
   "cell_type": "code",
   "execution_count": 138,
   "metadata": {},
   "outputs": [],
   "source": [
    "#df_sort.to_csv(r'countries_corona.csv') # to export the data for plotting in Tableau"
   ]
  },
  {
   "cell_type": "markdown",
   "metadata": {},
   "source": [
    "# Trying to visualize the spread of coronavirus over the globe"
   ]
  },
  {
   "cell_type": "code",
   "execution_count": 75,
   "metadata": {
    "scrolled": true
   },
   "outputs": [
    {
     "data": {
      "text/html": [
       "<div>\n",
       "<style scoped>\n",
       "    .dataframe tbody tr th:only-of-type {\n",
       "        vertical-align: middle;\n",
       "    }\n",
       "\n",
       "    .dataframe tbody tr th {\n",
       "        vertical-align: top;\n",
       "    }\n",
       "\n",
       "    .dataframe thead th {\n",
       "        text-align: right;\n",
       "    }\n",
       "</style>\n",
       "<table border=\"1\" class=\"dataframe\">\n",
       "  <thead>\n",
       "    <tr style=\"text-align: right;\">\n",
       "      <th></th>\n",
       "      <th>index</th>\n",
       "      <th>Country/Region</th>\n",
       "      <th>total</th>\n",
       "    </tr>\n",
       "  </thead>\n",
       "  <tbody>\n",
       "    <tr>\n",
       "      <td>0</td>\n",
       "      <td>14</td>\n",
       "      <td>Mainland China</td>\n",
       "      <td>74999</td>\n",
       "    </tr>\n",
       "    <tr>\n",
       "      <td>2</td>\n",
       "      <td>12</td>\n",
       "      <td>Japan</td>\n",
       "      <td>136</td>\n",
       "    </tr>\n",
       "    <tr>\n",
       "      <td>3</td>\n",
       "      <td>21</td>\n",
       "      <td>South Korea</td>\n",
       "      <td>104</td>\n",
       "    </tr>\n",
       "    <tr>\n",
       "      <td>4</td>\n",
       "      <td>20</td>\n",
       "      <td>Singapore</td>\n",
       "      <td>84</td>\n",
       "    </tr>\n",
       "    <tr>\n",
       "      <td>5</td>\n",
       "      <td>8</td>\n",
       "      <td>Hong Kong</td>\n",
       "      <td>68</td>\n",
       "    </tr>\n",
       "  </tbody>\n",
       "</table>\n",
       "</div>"
      ],
      "text/plain": [
       "   index  Country/Region  total\n",
       "0     14  Mainland China  74999\n",
       "2     12           Japan    136\n",
       "3     21     South Korea    104\n",
       "4     20       Singapore     84\n",
       "5      8       Hong Kong     68"
      ]
     },
     "execution_count": 75,
     "metadata": {},
     "output_type": "execute_result"
    }
   ],
   "source": [
    "\n",
    "df_sort= df_sort[df_sort['Country/Region'] != 'Others']\n",
    "df_sort.head()\n",
    "\n"
   ]
  },
  {
   "cell_type": "code",
   "execution_count": 76,
   "metadata": {},
   "outputs": [],
   "source": [
    "df_sort.drop(df_sort.head(1).index,axis=0,inplace=True)"
   ]
  },
  {
   "cell_type": "code",
   "execution_count": 77,
   "metadata": {},
   "outputs": [
    {
     "data": {
      "text/html": [
       "<div>\n",
       "<style scoped>\n",
       "    .dataframe tbody tr th:only-of-type {\n",
       "        vertical-align: middle;\n",
       "    }\n",
       "\n",
       "    .dataframe tbody tr th {\n",
       "        vertical-align: top;\n",
       "    }\n",
       "\n",
       "    .dataframe thead th {\n",
       "        text-align: right;\n",
       "    }\n",
       "</style>\n",
       "<table border=\"1\" class=\"dataframe\">\n",
       "  <thead>\n",
       "    <tr style=\"text-align: right;\">\n",
       "      <th></th>\n",
       "      <th>index</th>\n",
       "      <th>Country/Region</th>\n",
       "      <th>total</th>\n",
       "    </tr>\n",
       "  </thead>\n",
       "  <tbody>\n",
       "    <tr>\n",
       "      <td>2</td>\n",
       "      <td>12</td>\n",
       "      <td>Japan</td>\n",
       "      <td>136</td>\n",
       "    </tr>\n",
       "    <tr>\n",
       "      <td>3</td>\n",
       "      <td>21</td>\n",
       "      <td>South Korea</td>\n",
       "      <td>104</td>\n",
       "    </tr>\n",
       "    <tr>\n",
       "      <td>4</td>\n",
       "      <td>20</td>\n",
       "      <td>Singapore</td>\n",
       "      <td>84</td>\n",
       "    </tr>\n",
       "    <tr>\n",
       "      <td>5</td>\n",
       "      <td>8</td>\n",
       "      <td>Hong Kong</td>\n",
       "      <td>68</td>\n",
       "    </tr>\n",
       "    <tr>\n",
       "      <td>6</td>\n",
       "      <td>26</td>\n",
       "      <td>Thailand</td>\n",
       "      <td>35</td>\n",
       "    </tr>\n",
       "  </tbody>\n",
       "</table>\n",
       "</div>"
      ],
      "text/plain": [
       "   index Country/Region  total\n",
       "2     12          Japan    136\n",
       "3     21    South Korea    104\n",
       "4     20      Singapore     84\n",
       "5      8      Hong Kong     68\n",
       "6     26       Thailand     35"
      ]
     },
     "execution_count": 77,
     "metadata": {},
     "output_type": "execute_result"
    }
   ],
   "source": [
    "df_sort.head()"
   ]
  },
  {
   "cell_type": "code",
   "execution_count": 78,
   "metadata": {
    "collapsed": true
   },
   "outputs": [
    {
     "data": {
      "application/vnd.plotly.v1+json": {
       "config": {
        "plotlyServerURL": "https://plot.ly"
       },
       "data": [
        {
         "colorscale": [
          [
           0,
           "rgb(255,245,240)"
          ],
          [
           0.125,
           "rgb(254,224,210)"
          ],
          [
           0.25,
           "rgb(252,187,161)"
          ],
          [
           0.375,
           "rgb(252,146,114)"
          ],
          [
           0.5,
           "rgb(251,106,74)"
          ],
          [
           0.625,
           "rgb(239,59,44)"
          ],
          [
           0.75,
           "rgb(203,24,29)"
          ],
          [
           0.875,
           "rgb(165,15,21)"
          ],
          [
           1,
           "rgb(103,0,13)"
          ]
         ],
         "locationmode": "country names",
         "locations": [
          "Japan",
          "South Korea",
          "Singapore",
          "Hong Kong",
          "Thailand",
          "Taiwan",
          "Malaysia",
          "Vietnam",
          "Germany",
          "Australia",
          "US",
          "France",
          "Macau",
          "United Arab Emirates",
          "UK",
          "Canada",
          "Iran",
          "Italy"
         ],
         "marker": {
          "line": {
           "color": "black",
           "width": 0.5
          }
         },
         "type": "choropleth",
         "z": [
          136,
          104,
          84,
          68,
          35,
          24,
          22,
          16,
          16,
          15,
          15,
          12,
          10,
          9,
          9,
          8,
          5,
          3
         ]
        }
       ],
       "layout": {
        "geo": {
         "projection": {
          "type": "equirectangular"
         },
         "showcoastlines": false,
         "showframe": false
        },
        "template": {
         "data": {
          "bar": [
           {
            "error_x": {
             "color": "#2a3f5f"
            },
            "error_y": {
             "color": "#2a3f5f"
            },
            "marker": {
             "line": {
              "color": "#E5ECF6",
              "width": 0.5
             }
            },
            "type": "bar"
           }
          ],
          "barpolar": [
           {
            "marker": {
             "line": {
              "color": "#E5ECF6",
              "width": 0.5
             }
            },
            "type": "barpolar"
           }
          ],
          "carpet": [
           {
            "aaxis": {
             "endlinecolor": "#2a3f5f",
             "gridcolor": "white",
             "linecolor": "white",
             "minorgridcolor": "white",
             "startlinecolor": "#2a3f5f"
            },
            "baxis": {
             "endlinecolor": "#2a3f5f",
             "gridcolor": "white",
             "linecolor": "white",
             "minorgridcolor": "white",
             "startlinecolor": "#2a3f5f"
            },
            "type": "carpet"
           }
          ],
          "choropleth": [
           {
            "colorbar": {
             "outlinewidth": 0,
             "ticks": ""
            },
            "type": "choropleth"
           }
          ],
          "contour": [
           {
            "colorbar": {
             "outlinewidth": 0,
             "ticks": ""
            },
            "colorscale": [
             [
              0,
              "#0d0887"
             ],
             [
              0.1111111111111111,
              "#46039f"
             ],
             [
              0.2222222222222222,
              "#7201a8"
             ],
             [
              0.3333333333333333,
              "#9c179e"
             ],
             [
              0.4444444444444444,
              "#bd3786"
             ],
             [
              0.5555555555555556,
              "#d8576b"
             ],
             [
              0.6666666666666666,
              "#ed7953"
             ],
             [
              0.7777777777777778,
              "#fb9f3a"
             ],
             [
              0.8888888888888888,
              "#fdca26"
             ],
             [
              1,
              "#f0f921"
             ]
            ],
            "type": "contour"
           }
          ],
          "contourcarpet": [
           {
            "colorbar": {
             "outlinewidth": 0,
             "ticks": ""
            },
            "type": "contourcarpet"
           }
          ],
          "heatmap": [
           {
            "colorbar": {
             "outlinewidth": 0,
             "ticks": ""
            },
            "colorscale": [
             [
              0,
              "#0d0887"
             ],
             [
              0.1111111111111111,
              "#46039f"
             ],
             [
              0.2222222222222222,
              "#7201a8"
             ],
             [
              0.3333333333333333,
              "#9c179e"
             ],
             [
              0.4444444444444444,
              "#bd3786"
             ],
             [
              0.5555555555555556,
              "#d8576b"
             ],
             [
              0.6666666666666666,
              "#ed7953"
             ],
             [
              0.7777777777777778,
              "#fb9f3a"
             ],
             [
              0.8888888888888888,
              "#fdca26"
             ],
             [
              1,
              "#f0f921"
             ]
            ],
            "type": "heatmap"
           }
          ],
          "heatmapgl": [
           {
            "colorbar": {
             "outlinewidth": 0,
             "ticks": ""
            },
            "colorscale": [
             [
              0,
              "#0d0887"
             ],
             [
              0.1111111111111111,
              "#46039f"
             ],
             [
              0.2222222222222222,
              "#7201a8"
             ],
             [
              0.3333333333333333,
              "#9c179e"
             ],
             [
              0.4444444444444444,
              "#bd3786"
             ],
             [
              0.5555555555555556,
              "#d8576b"
             ],
             [
              0.6666666666666666,
              "#ed7953"
             ],
             [
              0.7777777777777778,
              "#fb9f3a"
             ],
             [
              0.8888888888888888,
              "#fdca26"
             ],
             [
              1,
              "#f0f921"
             ]
            ],
            "type": "heatmapgl"
           }
          ],
          "histogram": [
           {
            "marker": {
             "colorbar": {
              "outlinewidth": 0,
              "ticks": ""
             }
            },
            "type": "histogram"
           }
          ],
          "histogram2d": [
           {
            "colorbar": {
             "outlinewidth": 0,
             "ticks": ""
            },
            "colorscale": [
             [
              0,
              "#0d0887"
             ],
             [
              0.1111111111111111,
              "#46039f"
             ],
             [
              0.2222222222222222,
              "#7201a8"
             ],
             [
              0.3333333333333333,
              "#9c179e"
             ],
             [
              0.4444444444444444,
              "#bd3786"
             ],
             [
              0.5555555555555556,
              "#d8576b"
             ],
             [
              0.6666666666666666,
              "#ed7953"
             ],
             [
              0.7777777777777778,
              "#fb9f3a"
             ],
             [
              0.8888888888888888,
              "#fdca26"
             ],
             [
              1,
              "#f0f921"
             ]
            ],
            "type": "histogram2d"
           }
          ],
          "histogram2dcontour": [
           {
            "colorbar": {
             "outlinewidth": 0,
             "ticks": ""
            },
            "colorscale": [
             [
              0,
              "#0d0887"
             ],
             [
              0.1111111111111111,
              "#46039f"
             ],
             [
              0.2222222222222222,
              "#7201a8"
             ],
             [
              0.3333333333333333,
              "#9c179e"
             ],
             [
              0.4444444444444444,
              "#bd3786"
             ],
             [
              0.5555555555555556,
              "#d8576b"
             ],
             [
              0.6666666666666666,
              "#ed7953"
             ],
             [
              0.7777777777777778,
              "#fb9f3a"
             ],
             [
              0.8888888888888888,
              "#fdca26"
             ],
             [
              1,
              "#f0f921"
             ]
            ],
            "type": "histogram2dcontour"
           }
          ],
          "mesh3d": [
           {
            "colorbar": {
             "outlinewidth": 0,
             "ticks": ""
            },
            "type": "mesh3d"
           }
          ],
          "parcoords": [
           {
            "line": {
             "colorbar": {
              "outlinewidth": 0,
              "ticks": ""
             }
            },
            "type": "parcoords"
           }
          ],
          "scatter": [
           {
            "marker": {
             "colorbar": {
              "outlinewidth": 0,
              "ticks": ""
             }
            },
            "type": "scatter"
           }
          ],
          "scatter3d": [
           {
            "line": {
             "colorbar": {
              "outlinewidth": 0,
              "ticks": ""
             }
            },
            "marker": {
             "colorbar": {
              "outlinewidth": 0,
              "ticks": ""
             }
            },
            "type": "scatter3d"
           }
          ],
          "scattercarpet": [
           {
            "marker": {
             "colorbar": {
              "outlinewidth": 0,
              "ticks": ""
             }
            },
            "type": "scattercarpet"
           }
          ],
          "scattergeo": [
           {
            "marker": {
             "colorbar": {
              "outlinewidth": 0,
              "ticks": ""
             }
            },
            "type": "scattergeo"
           }
          ],
          "scattergl": [
           {
            "marker": {
             "colorbar": {
              "outlinewidth": 0,
              "ticks": ""
             }
            },
            "type": "scattergl"
           }
          ],
          "scattermapbox": [
           {
            "marker": {
             "colorbar": {
              "outlinewidth": 0,
              "ticks": ""
             }
            },
            "type": "scattermapbox"
           }
          ],
          "scatterpolar": [
           {
            "marker": {
             "colorbar": {
              "outlinewidth": 0,
              "ticks": ""
             }
            },
            "type": "scatterpolar"
           }
          ],
          "scatterpolargl": [
           {
            "marker": {
             "colorbar": {
              "outlinewidth": 0,
              "ticks": ""
             }
            },
            "type": "scatterpolargl"
           }
          ],
          "scatterternary": [
           {
            "marker": {
             "colorbar": {
              "outlinewidth": 0,
              "ticks": ""
             }
            },
            "type": "scatterternary"
           }
          ],
          "surface": [
           {
            "colorbar": {
             "outlinewidth": 0,
             "ticks": ""
            },
            "colorscale": [
             [
              0,
              "#0d0887"
             ],
             [
              0.1111111111111111,
              "#46039f"
             ],
             [
              0.2222222222222222,
              "#7201a8"
             ],
             [
              0.3333333333333333,
              "#9c179e"
             ],
             [
              0.4444444444444444,
              "#bd3786"
             ],
             [
              0.5555555555555556,
              "#d8576b"
             ],
             [
              0.6666666666666666,
              "#ed7953"
             ],
             [
              0.7777777777777778,
              "#fb9f3a"
             ],
             [
              0.8888888888888888,
              "#fdca26"
             ],
             [
              1,
              "#f0f921"
             ]
            ],
            "type": "surface"
           }
          ],
          "table": [
           {
            "cells": {
             "fill": {
              "color": "#EBF0F8"
             },
             "line": {
              "color": "white"
             }
            },
            "header": {
             "fill": {
              "color": "#C8D4E3"
             },
             "line": {
              "color": "white"
             }
            },
            "type": "table"
           }
          ]
         },
         "layout": {
          "annotationdefaults": {
           "arrowcolor": "#2a3f5f",
           "arrowhead": 0,
           "arrowwidth": 1
          },
          "colorscale": {
           "diverging": [
            [
             0,
             "#8e0152"
            ],
            [
             0.1,
             "#c51b7d"
            ],
            [
             0.2,
             "#de77ae"
            ],
            [
             0.3,
             "#f1b6da"
            ],
            [
             0.4,
             "#fde0ef"
            ],
            [
             0.5,
             "#f7f7f7"
            ],
            [
             0.6,
             "#e6f5d0"
            ],
            [
             0.7,
             "#b8e186"
            ],
            [
             0.8,
             "#7fbc41"
            ],
            [
             0.9,
             "#4d9221"
            ],
            [
             1,
             "#276419"
            ]
           ],
           "sequential": [
            [
             0,
             "#0d0887"
            ],
            [
             0.1111111111111111,
             "#46039f"
            ],
            [
             0.2222222222222222,
             "#7201a8"
            ],
            [
             0.3333333333333333,
             "#9c179e"
            ],
            [
             0.4444444444444444,
             "#bd3786"
            ],
            [
             0.5555555555555556,
             "#d8576b"
            ],
            [
             0.6666666666666666,
             "#ed7953"
            ],
            [
             0.7777777777777778,
             "#fb9f3a"
            ],
            [
             0.8888888888888888,
             "#fdca26"
            ],
            [
             1,
             "#f0f921"
            ]
           ],
           "sequentialminus": [
            [
             0,
             "#0d0887"
            ],
            [
             0.1111111111111111,
             "#46039f"
            ],
            [
             0.2222222222222222,
             "#7201a8"
            ],
            [
             0.3333333333333333,
             "#9c179e"
            ],
            [
             0.4444444444444444,
             "#bd3786"
            ],
            [
             0.5555555555555556,
             "#d8576b"
            ],
            [
             0.6666666666666666,
             "#ed7953"
            ],
            [
             0.7777777777777778,
             "#fb9f3a"
            ],
            [
             0.8888888888888888,
             "#fdca26"
            ],
            [
             1,
             "#f0f921"
            ]
           ]
          },
          "colorway": [
           "#636efa",
           "#EF553B",
           "#00cc96",
           "#ab63fa",
           "#FFA15A",
           "#19d3f3",
           "#FF6692",
           "#B6E880",
           "#FF97FF",
           "#FECB52"
          ],
          "font": {
           "color": "#2a3f5f"
          },
          "geo": {
           "bgcolor": "white",
           "lakecolor": "white",
           "landcolor": "#E5ECF6",
           "showlakes": true,
           "showland": true,
           "subunitcolor": "white"
          },
          "hoverlabel": {
           "align": "left"
          },
          "hovermode": "closest",
          "mapbox": {
           "style": "light"
          },
          "paper_bgcolor": "white",
          "plot_bgcolor": "#E5ECF6",
          "polar": {
           "angularaxis": {
            "gridcolor": "white",
            "linecolor": "white",
            "ticks": ""
           },
           "bgcolor": "#E5ECF6",
           "radialaxis": {
            "gridcolor": "white",
            "linecolor": "white",
            "ticks": ""
           }
          },
          "scene": {
           "xaxis": {
            "backgroundcolor": "#E5ECF6",
            "gridcolor": "white",
            "gridwidth": 2,
            "linecolor": "white",
            "showbackground": true,
            "ticks": "",
            "zerolinecolor": "white"
           },
           "yaxis": {
            "backgroundcolor": "#E5ECF6",
            "gridcolor": "white",
            "gridwidth": 2,
            "linecolor": "white",
            "showbackground": true,
            "ticks": "",
            "zerolinecolor": "white"
           },
           "zaxis": {
            "backgroundcolor": "#E5ECF6",
            "gridcolor": "white",
            "gridwidth": 2,
            "linecolor": "white",
            "showbackground": true,
            "ticks": "",
            "zerolinecolor": "white"
           }
          },
          "shapedefaults": {
           "line": {
            "color": "#2a3f5f"
           }
          },
          "ternary": {
           "aaxis": {
            "gridcolor": "white",
            "linecolor": "white",
            "ticks": ""
           },
           "baxis": {
            "gridcolor": "white",
            "linecolor": "white",
            "ticks": ""
           },
           "bgcolor": "#E5ECF6",
           "caxis": {
            "gridcolor": "white",
            "linecolor": "white",
            "ticks": ""
           }
          },
          "title": {
           "x": 0.05
          },
          "xaxis": {
           "automargin": true,
           "gridcolor": "white",
           "linecolor": "white",
           "ticks": "",
           "zerolinecolor": "white",
           "zerolinewidth": 2
          },
          "yaxis": {
           "automargin": true,
           "gridcolor": "white",
           "linecolor": "white",
           "ticks": "",
           "zerolinecolor": "white",
           "zerolinewidth": 2
          }
         }
        },
        "title": {
         "text": "Worldwide Confirmed Corona-Virus Cases",
         "x": 0.5
        }
       }
      },
      "text/html": [
       "<div>\n",
       "        \n",
       "        \n",
       "            <div id=\"d6f787ca-ac97-463a-83ad-56459a804cc1\" class=\"plotly-graph-div\" style=\"height:525px; width:100%;\"></div>\n",
       "            <script type=\"text/javascript\">\n",
       "                require([\"plotly\"], function(Plotly) {\n",
       "                    window.PLOTLYENV=window.PLOTLYENV || {};\n",
       "                    \n",
       "                if (document.getElementById(\"d6f787ca-ac97-463a-83ad-56459a804cc1\")) {\n",
       "                    Plotly.newPlot(\n",
       "                        'd6f787ca-ac97-463a-83ad-56459a804cc1',\n",
       "                        [{\"colorscale\": [[0.0, \"rgb(255,245,240)\"], [0.125, \"rgb(254,224,210)\"], [0.25, \"rgb(252,187,161)\"], [0.375, \"rgb(252,146,114)\"], [0.5, \"rgb(251,106,74)\"], [0.625, \"rgb(239,59,44)\"], [0.75, \"rgb(203,24,29)\"], [0.875, \"rgb(165,15,21)\"], [1.0, \"rgb(103,0,13)\"]], \"locationmode\": \"country names\", \"locations\": [\"Japan\", \"South Korea\", \"Singapore\", \"Hong Kong\", \"Thailand\", \"Taiwan\", \"Malaysia\", \"Vietnam\", \"Germany\", \"Australia\", \"US\", \"France\", \"Macau\", \"United Arab Emirates\", \"UK\", \"Canada\", \"Iran\", \"Italy\"], \"marker\": {\"line\": {\"color\": \"black\", \"width\": 0.5}}, \"type\": \"choropleth\", \"z\": [136, 104, 84, 68, 35, 24, 22, 16, 16, 15, 15, 12, 10, 9, 9, 8, 5, 3]}],\n",
       "                        {\"geo\": {\"projection\": {\"type\": \"equirectangular\"}, \"showcoastlines\": false, \"showframe\": false}, \"template\": {\"data\": {\"bar\": [{\"error_x\": {\"color\": \"#2a3f5f\"}, \"error_y\": {\"color\": \"#2a3f5f\"}, \"marker\": {\"line\": {\"color\": \"#E5ECF6\", \"width\": 0.5}}, \"type\": \"bar\"}], \"barpolar\": [{\"marker\": {\"line\": {\"color\": \"#E5ECF6\", \"width\": 0.5}}, \"type\": \"barpolar\"}], \"carpet\": [{\"aaxis\": {\"endlinecolor\": \"#2a3f5f\", \"gridcolor\": \"white\", \"linecolor\": \"white\", \"minorgridcolor\": \"white\", \"startlinecolor\": \"#2a3f5f\"}, \"baxis\": {\"endlinecolor\": \"#2a3f5f\", \"gridcolor\": \"white\", \"linecolor\": \"white\", \"minorgridcolor\": \"white\", \"startlinecolor\": \"#2a3f5f\"}, \"type\": \"carpet\"}], \"choropleth\": [{\"colorbar\": {\"outlinewidth\": 0, \"ticks\": \"\"}, \"type\": \"choropleth\"}], \"contour\": [{\"colorbar\": {\"outlinewidth\": 0, \"ticks\": \"\"}, \"colorscale\": [[0.0, \"#0d0887\"], [0.1111111111111111, \"#46039f\"], [0.2222222222222222, \"#7201a8\"], [0.3333333333333333, \"#9c179e\"], [0.4444444444444444, \"#bd3786\"], [0.5555555555555556, \"#d8576b\"], [0.6666666666666666, \"#ed7953\"], [0.7777777777777778, \"#fb9f3a\"], [0.8888888888888888, \"#fdca26\"], [1.0, \"#f0f921\"]], \"type\": \"contour\"}], \"contourcarpet\": [{\"colorbar\": {\"outlinewidth\": 0, \"ticks\": \"\"}, \"type\": \"contourcarpet\"}], \"heatmap\": [{\"colorbar\": {\"outlinewidth\": 0, \"ticks\": \"\"}, \"colorscale\": [[0.0, \"#0d0887\"], [0.1111111111111111, \"#46039f\"], [0.2222222222222222, \"#7201a8\"], [0.3333333333333333, \"#9c179e\"], [0.4444444444444444, \"#bd3786\"], [0.5555555555555556, \"#d8576b\"], [0.6666666666666666, \"#ed7953\"], [0.7777777777777778, \"#fb9f3a\"], [0.8888888888888888, \"#fdca26\"], [1.0, \"#f0f921\"]], \"type\": \"heatmap\"}], \"heatmapgl\": [{\"colorbar\": {\"outlinewidth\": 0, \"ticks\": \"\"}, \"colorscale\": [[0.0, \"#0d0887\"], [0.1111111111111111, \"#46039f\"], [0.2222222222222222, \"#7201a8\"], [0.3333333333333333, \"#9c179e\"], [0.4444444444444444, \"#bd3786\"], [0.5555555555555556, \"#d8576b\"], [0.6666666666666666, \"#ed7953\"], [0.7777777777777778, \"#fb9f3a\"], [0.8888888888888888, \"#fdca26\"], [1.0, \"#f0f921\"]], \"type\": \"heatmapgl\"}], \"histogram\": [{\"marker\": {\"colorbar\": {\"outlinewidth\": 0, \"ticks\": \"\"}}, \"type\": \"histogram\"}], \"histogram2d\": [{\"colorbar\": {\"outlinewidth\": 0, \"ticks\": \"\"}, \"colorscale\": [[0.0, \"#0d0887\"], [0.1111111111111111, \"#46039f\"], [0.2222222222222222, \"#7201a8\"], [0.3333333333333333, \"#9c179e\"], [0.4444444444444444, \"#bd3786\"], [0.5555555555555556, \"#d8576b\"], [0.6666666666666666, \"#ed7953\"], [0.7777777777777778, \"#fb9f3a\"], [0.8888888888888888, \"#fdca26\"], [1.0, \"#f0f921\"]], \"type\": \"histogram2d\"}], \"histogram2dcontour\": [{\"colorbar\": {\"outlinewidth\": 0, \"ticks\": \"\"}, \"colorscale\": [[0.0, \"#0d0887\"], [0.1111111111111111, \"#46039f\"], [0.2222222222222222, \"#7201a8\"], [0.3333333333333333, \"#9c179e\"], [0.4444444444444444, \"#bd3786\"], [0.5555555555555556, \"#d8576b\"], [0.6666666666666666, \"#ed7953\"], [0.7777777777777778, \"#fb9f3a\"], [0.8888888888888888, \"#fdca26\"], [1.0, \"#f0f921\"]], \"type\": \"histogram2dcontour\"}], \"mesh3d\": [{\"colorbar\": {\"outlinewidth\": 0, \"ticks\": \"\"}, \"type\": \"mesh3d\"}], \"parcoords\": [{\"line\": {\"colorbar\": {\"outlinewidth\": 0, \"ticks\": \"\"}}, \"type\": \"parcoords\"}], \"scatter\": [{\"marker\": {\"colorbar\": {\"outlinewidth\": 0, \"ticks\": \"\"}}, \"type\": \"scatter\"}], \"scatter3d\": [{\"line\": {\"colorbar\": {\"outlinewidth\": 0, \"ticks\": \"\"}}, \"marker\": {\"colorbar\": {\"outlinewidth\": 0, \"ticks\": \"\"}}, \"type\": \"scatter3d\"}], \"scattercarpet\": [{\"marker\": {\"colorbar\": {\"outlinewidth\": 0, \"ticks\": \"\"}}, \"type\": \"scattercarpet\"}], \"scattergeo\": [{\"marker\": {\"colorbar\": {\"outlinewidth\": 0, \"ticks\": \"\"}}, \"type\": \"scattergeo\"}], \"scattergl\": [{\"marker\": {\"colorbar\": {\"outlinewidth\": 0, \"ticks\": \"\"}}, \"type\": \"scattergl\"}], \"scattermapbox\": [{\"marker\": {\"colorbar\": {\"outlinewidth\": 0, \"ticks\": \"\"}}, \"type\": \"scattermapbox\"}], \"scatterpolar\": [{\"marker\": {\"colorbar\": {\"outlinewidth\": 0, \"ticks\": \"\"}}, \"type\": \"scatterpolar\"}], \"scatterpolargl\": [{\"marker\": {\"colorbar\": {\"outlinewidth\": 0, \"ticks\": \"\"}}, \"type\": \"scatterpolargl\"}], \"scatterternary\": [{\"marker\": {\"colorbar\": {\"outlinewidth\": 0, \"ticks\": \"\"}}, \"type\": \"scatterternary\"}], \"surface\": [{\"colorbar\": {\"outlinewidth\": 0, \"ticks\": \"\"}, \"colorscale\": [[0.0, \"#0d0887\"], [0.1111111111111111, \"#46039f\"], [0.2222222222222222, \"#7201a8\"], [0.3333333333333333, \"#9c179e\"], [0.4444444444444444, \"#bd3786\"], [0.5555555555555556, \"#d8576b\"], [0.6666666666666666, \"#ed7953\"], [0.7777777777777778, \"#fb9f3a\"], [0.8888888888888888, \"#fdca26\"], [1.0, \"#f0f921\"]], \"type\": \"surface\"}], \"table\": [{\"cells\": {\"fill\": {\"color\": \"#EBF0F8\"}, \"line\": {\"color\": \"white\"}}, \"header\": {\"fill\": {\"color\": \"#C8D4E3\"}, \"line\": {\"color\": \"white\"}}, \"type\": \"table\"}]}, \"layout\": {\"annotationdefaults\": {\"arrowcolor\": \"#2a3f5f\", \"arrowhead\": 0, \"arrowwidth\": 1}, \"colorscale\": {\"diverging\": [[0, \"#8e0152\"], [0.1, \"#c51b7d\"], [0.2, \"#de77ae\"], [0.3, \"#f1b6da\"], [0.4, \"#fde0ef\"], [0.5, \"#f7f7f7\"], [0.6, \"#e6f5d0\"], [0.7, \"#b8e186\"], [0.8, \"#7fbc41\"], [0.9, \"#4d9221\"], [1, \"#276419\"]], \"sequential\": [[0.0, \"#0d0887\"], [0.1111111111111111, \"#46039f\"], [0.2222222222222222, \"#7201a8\"], [0.3333333333333333, \"#9c179e\"], [0.4444444444444444, \"#bd3786\"], [0.5555555555555556, \"#d8576b\"], [0.6666666666666666, \"#ed7953\"], [0.7777777777777778, \"#fb9f3a\"], [0.8888888888888888, \"#fdca26\"], [1.0, \"#f0f921\"]], \"sequentialminus\": [[0.0, \"#0d0887\"], [0.1111111111111111, \"#46039f\"], [0.2222222222222222, \"#7201a8\"], [0.3333333333333333, \"#9c179e\"], [0.4444444444444444, \"#bd3786\"], [0.5555555555555556, \"#d8576b\"], [0.6666666666666666, \"#ed7953\"], [0.7777777777777778, \"#fb9f3a\"], [0.8888888888888888, \"#fdca26\"], [1.0, \"#f0f921\"]]}, \"colorway\": [\"#636efa\", \"#EF553B\", \"#00cc96\", \"#ab63fa\", \"#FFA15A\", \"#19d3f3\", \"#FF6692\", \"#B6E880\", \"#FF97FF\", \"#FECB52\"], \"font\": {\"color\": \"#2a3f5f\"}, \"geo\": {\"bgcolor\": \"white\", \"lakecolor\": \"white\", \"landcolor\": \"#E5ECF6\", \"showlakes\": true, \"showland\": true, \"subunitcolor\": \"white\"}, \"hoverlabel\": {\"align\": \"left\"}, \"hovermode\": \"closest\", \"mapbox\": {\"style\": \"light\"}, \"paper_bgcolor\": \"white\", \"plot_bgcolor\": \"#E5ECF6\", \"polar\": {\"angularaxis\": {\"gridcolor\": \"white\", \"linecolor\": \"white\", \"ticks\": \"\"}, \"bgcolor\": \"#E5ECF6\", \"radialaxis\": {\"gridcolor\": \"white\", \"linecolor\": \"white\", \"ticks\": \"\"}}, \"scene\": {\"xaxis\": {\"backgroundcolor\": \"#E5ECF6\", \"gridcolor\": \"white\", \"gridwidth\": 2, \"linecolor\": \"white\", \"showbackground\": true, \"ticks\": \"\", \"zerolinecolor\": \"white\"}, \"yaxis\": {\"backgroundcolor\": \"#E5ECF6\", \"gridcolor\": \"white\", \"gridwidth\": 2, \"linecolor\": \"white\", \"showbackground\": true, \"ticks\": \"\", \"zerolinecolor\": \"white\"}, \"zaxis\": {\"backgroundcolor\": \"#E5ECF6\", \"gridcolor\": \"white\", \"gridwidth\": 2, \"linecolor\": \"white\", \"showbackground\": true, \"ticks\": \"\", \"zerolinecolor\": \"white\"}}, \"shapedefaults\": {\"line\": {\"color\": \"#2a3f5f\"}}, \"ternary\": {\"aaxis\": {\"gridcolor\": \"white\", \"linecolor\": \"white\", \"ticks\": \"\"}, \"baxis\": {\"gridcolor\": \"white\", \"linecolor\": \"white\", \"ticks\": \"\"}, \"bgcolor\": \"#E5ECF6\", \"caxis\": {\"gridcolor\": \"white\", \"linecolor\": \"white\", \"ticks\": \"\"}}, \"title\": {\"x\": 0.05}, \"xaxis\": {\"automargin\": true, \"gridcolor\": \"white\", \"linecolor\": \"white\", \"ticks\": \"\", \"zerolinecolor\": \"white\", \"zerolinewidth\": 2}, \"yaxis\": {\"automargin\": true, \"gridcolor\": \"white\", \"linecolor\": \"white\", \"ticks\": \"\", \"zerolinecolor\": \"white\", \"zerolinewidth\": 2}}}, \"title\": {\"text\": \"Worldwide Confirmed Corona-Virus Cases\", \"x\": 0.5}},\n",
       "                        {\"responsive\": true}\n",
       "                    ).then(function(){\n",
       "                            \n",
       "var gd = document.getElementById('d6f787ca-ac97-463a-83ad-56459a804cc1');\n",
       "var x = new MutationObserver(function (mutations, observer) {{\n",
       "        var display = window.getComputedStyle(gd).display;\n",
       "        if (!display || display === 'none') {{\n",
       "            console.log([gd, 'removed!']);\n",
       "            Plotly.purge(gd);\n",
       "            observer.disconnect();\n",
       "        }}\n",
       "}});\n",
       "\n",
       "// Listen for the removal of the full notebook cells\n",
       "var notebookContainer = gd.closest('#notebook-container');\n",
       "if (notebookContainer) {{\n",
       "    x.observe(notebookContainer, {childList: true});\n",
       "}}\n",
       "\n",
       "// Listen for the clearing of the current output cell\n",
       "var outputEl = gd.closest('.output');\n",
       "if (outputEl) {{\n",
       "    x.observe(outputEl, {childList: true});\n",
       "}}\n",
       "\n",
       "                        })\n",
       "                };\n",
       "                });\n",
       "            </script>\n",
       "        </div>"
      ]
     },
     "metadata": {},
     "output_type": "display_data"
    }
   ],
   "source": [
    "# df_countries_no_china = df_[df_countries['Country'] != 'Mainland China']\n",
    "import plotly.graph_objects as go\n",
    "fig = go.Figure(data=go.Choropleth(\n",
    "    locations = df_sort['Country/Region'],\n",
    "    locationmode = 'country names',\n",
    "    z = df_sort['total'],\n",
    "    colorscale = 'Reds',\n",
    "    marker_line_color = 'black',\n",
    "    marker_line_width = 0.5\n",
    "))\n",
    "\n",
    "fig.update_layout(\n",
    "    title_text = 'Worldwide Confirmed Corona-Virus Cases',\n",
    "    title_x = 0.5,\n",
    "    geo=dict(\n",
    "        showframe = False,\n",
    "        showcoastlines = False,\n",
    "        projection_type = 'equirectangular'\n",
    "    )\n",
    ")"
   ]
  },
  {
   "cell_type": "markdown",
   "metadata": {},
   "source": [
    "# Investigating confirmed cases just in china provinces"
   ]
  },
  {
   "cell_type": "code",
   "execution_count": 27,
   "metadata": {},
   "outputs": [],
   "source": [
    "df_confirm=pd.read_csv('Corona_cases/Confirmed.csv')\n",
    "df_death=pd.read_csv('Corona_cases/deaths.csv')\n",
    "df_recoverd=pd.read_csv('Corona_cases/recoverd_2019.csv')"
   ]
  },
  {
   "cell_type": "code",
   "execution_count": 28,
   "metadata": {},
   "outputs": [],
   "source": [
    "df_confirm1=df_confirm.iloc[:,0:5].sort_values(by='total',ascending=False)\n",
    "df_death1=df_death.iloc[:,0:5].sort_values(by='total',ascending=False)\n",
    "df_recoverd1=df_recoverd.iloc[:,0:5].sort_values(by='total',ascending=False)"
   ]
  },
  {
   "cell_type": "code",
   "execution_count": 29,
   "metadata": {},
   "outputs": [],
   "source": [
    "df_confirm2=df_confirm1[df_confirm1['Country/Region']== 'Mainland China']"
   ]
  },
  {
   "cell_type": "code",
   "execution_count": 30,
   "metadata": {},
   "outputs": [],
   "source": [
    "df_confirm2.to_csv(r'china_corona.csv') # exporting this data for plotting"
   ]
  },
  {
   "cell_type": "code",
   "execution_count": 32,
   "metadata": {},
   "outputs": [
    {
     "data": {
      "text/html": [
       "<div>\n",
       "<style scoped>\n",
       "    .dataframe tbody tr th:only-of-type {\n",
       "        vertical-align: middle;\n",
       "    }\n",
       "\n",
       "    .dataframe tbody tr th {\n",
       "        vertical-align: top;\n",
       "    }\n",
       "\n",
       "    .dataframe thead th {\n",
       "        text-align: right;\n",
       "    }\n",
       "</style>\n",
       "<table border=\"1\" class=\"dataframe\">\n",
       "  <thead>\n",
       "    <tr style=\"text-align: right;\">\n",
       "      <th></th>\n",
       "      <th>Province/State</th>\n",
       "      <th>Country/Region</th>\n",
       "      <th>Lat</th>\n",
       "      <th>Long</th>\n",
       "      <th>total</th>\n",
       "    </tr>\n",
       "  </thead>\n",
       "  <tbody>\n",
       "    <tr>\n",
       "      <td>12</td>\n",
       "      <td>Hubei</td>\n",
       "      <td>Mainland China</td>\n",
       "      <td>30.97564</td>\n",
       "      <td>112.2707</td>\n",
       "      <td>62442</td>\n",
       "    </tr>\n",
       "    <tr>\n",
       "      <td>5</td>\n",
       "      <td>Guangdong</td>\n",
       "      <td>Mainland China</td>\n",
       "      <td>23.33841</td>\n",
       "      <td>113.4220</td>\n",
       "      <td>1332</td>\n",
       "    </tr>\n",
       "    <tr>\n",
       "      <td>11</td>\n",
       "      <td>Henan</td>\n",
       "      <td>Mainland China</td>\n",
       "      <td>33.88202</td>\n",
       "      <td>113.6140</td>\n",
       "      <td>1265</td>\n",
       "    </tr>\n",
       "    <tr>\n",
       "      <td>30</td>\n",
       "      <td>Zhejiang</td>\n",
       "      <td>Mainland China</td>\n",
       "      <td>29.18251</td>\n",
       "      <td>120.0985</td>\n",
       "      <td>1175</td>\n",
       "    </tr>\n",
       "    <tr>\n",
       "      <td>13</td>\n",
       "      <td>Hunan</td>\n",
       "      <td>Mainland China</td>\n",
       "      <td>27.61041</td>\n",
       "      <td>111.7088</td>\n",
       "      <td>1010</td>\n",
       "    </tr>\n",
       "  </tbody>\n",
       "</table>\n",
       "</div>"
      ],
      "text/plain": [
       "   Province/State  Country/Region       Lat      Long  total\n",
       "12          Hubei  Mainland China  30.97564  112.2707  62442\n",
       "5       Guangdong  Mainland China  23.33841  113.4220   1332\n",
       "11          Henan  Mainland China  33.88202  113.6140   1265\n",
       "30       Zhejiang  Mainland China  29.18251  120.0985   1175\n",
       "13          Hunan  Mainland China  27.61041  111.7088   1010"
      ]
     },
     "execution_count": 32,
     "metadata": {},
     "output_type": "execute_result"
    }
   ],
   "source": [
    "df_confirm2.head()"
   ]
  },
  {
   "cell_type": "markdown",
   "metadata": {},
   "source": [
    "# Tweets data"
   ]
  },
  {
   "cell_type": "code",
   "execution_count": 17,
   "metadata": {},
   "outputs": [
    {
     "data": {
      "text/html": [
       "<div>\n",
       "<style scoped>\n",
       "    .dataframe tbody tr th:only-of-type {\n",
       "        vertical-align: middle;\n",
       "    }\n",
       "\n",
       "    .dataframe tbody tr th {\n",
       "        vertical-align: top;\n",
       "    }\n",
       "\n",
       "    .dataframe thead th {\n",
       "        text-align: right;\n",
       "    }\n",
       "</style>\n",
       "<table border=\"1\" class=\"dataframe\">\n",
       "  <thead>\n",
       "    <tr style=\"text-align: right;\">\n",
       "      <th></th>\n",
       "      <th>tweet_id</th>\n",
       "      <th>tweet_created_at</th>\n",
       "      <th>User_Id</th>\n",
       "      <th>Extended_Tweet</th>\n",
       "      <th>tweet_text</th>\n",
       "      <th>tweet_lang</th>\n",
       "    </tr>\n",
       "  </thead>\n",
       "  <tbody>\n",
       "    <tr>\n",
       "      <td>0</td>\n",
       "      <td>\"1224513118593802241\"</td>\n",
       "      <td>Tue Feb 04 02:00:52 +0000 2020</td>\n",
       "      <td>3906515918</td>\n",
       "      <td>Watch what happened at 45:26 in @trumpet_news'...</td>\n",
       "      <td>Watch what happened at 45:26 in @trumpet_news'...</td>\n",
       "      <td>en</td>\n",
       "    </tr>\n",
       "    <tr>\n",
       "      <td>1</td>\n",
       "      <td>1224513626813300736</td>\n",
       "      <td>Tue Feb 04 02:02:53 +0000 2020</td>\n",
       "      <td>24327775</td>\n",
       "      <td>@bairdjulia And yet, we are relying on science...</td>\n",
       "      <td>RT @Therese_Rein: @bairdjulia And yet, we are ...</td>\n",
       "      <td>en</td>\n",
       "    </tr>\n",
       "    <tr>\n",
       "      <td>2</td>\n",
       "      <td>1224515552493727744</td>\n",
       "      <td>Tue Feb 04 02:10:32 +0000 2020</td>\n",
       "      <td>1147389922782801920</td>\n",
       "      <td>\"The government is useless. They should close ...</td>\n",
       "      <td>RT @dwnews: \"The government is useless. They s...</td>\n",
       "      <td>en</td>\n",
       "    </tr>\n",
       "    <tr>\n",
       "      <td>3</td>\n",
       "      <td>1224515552632135680</td>\n",
       "      <td>Tue Feb 04 02:10:32 +0000 2020</td>\n",
       "      <td>308010504</td>\n",
       "      <td>Lockdown in Wuhan: Instructions on how to stop...</td>\n",
       "      <td>RT @MariettaDaviz: Lockdown in Wuhan: Instruct...</td>\n",
       "      <td>en</td>\n",
       "    </tr>\n",
       "    <tr>\n",
       "      <td>4</td>\n",
       "      <td>1224517416467795969</td>\n",
       "      <td>Tue Feb 04 02:17:57 +0000 2020</td>\n",
       "      <td>141437393</td>\n",
       "      <td>Hey, @DickGordonDG, still proud of sending mil...</td>\n",
       "      <td>RT @leahnavarro: Hey, @DickGordonDG, still pro...</td>\n",
       "      <td>en</td>\n",
       "    </tr>\n",
       "    <tr>\n",
       "      <td>...</td>\n",
       "      <td>...</td>\n",
       "      <td>...</td>\n",
       "      <td>...</td>\n",
       "      <td>...</td>\n",
       "      <td>...</td>\n",
       "      <td>...</td>\n",
       "    </tr>\n",
       "    <tr>\n",
       "      <td>19995</td>\n",
       "      <td>1224558687395516416</td>\n",
       "      <td>Tue Feb 04 05:01:56 +0000 2020</td>\n",
       "      <td>953557252547293184</td>\n",
       "      <td>Due to severe of #CoronaVirus in China governm...</td>\n",
       "      <td>Due to severe of #CoronaVirus in China governm...</td>\n",
       "      <td>en</td>\n",
       "    </tr>\n",
       "    <tr>\n",
       "      <td>19996</td>\n",
       "      <td>1224558694307745792</td>\n",
       "      <td>Tue Feb 04 05:01:58 +0000 2020</td>\n",
       "      <td>254820047</td>\n",
       "      <td>Necessity is the mother of ADOPTION. https://t...</td>\n",
       "      <td>Necessity is the mother of ADOPTION.</td>\n",
       "      <td>en</td>\n",
       "    </tr>\n",
       "    <tr>\n",
       "      <td>19997</td>\n",
       "      <td>1224558695901585408</td>\n",
       "      <td>Tue Feb 04 05:01:58 +0000 2020</td>\n",
       "      <td>2225205308</td>\n",
       "      <td>@MishraVn U don't u take a trip to #Wuhan to f...</td>\n",
       "      <td>@MishraVn U don't u take a trip to #Wuhan to f...</td>\n",
       "      <td>en</td>\n",
       "    </tr>\n",
       "    <tr>\n",
       "      <td>19998</td>\n",
       "      <td>1224558696350523393</td>\n",
       "      <td>Tue Feb 04 05:01:59 +0000 2020</td>\n",
       "      <td>1132379004</td>\n",
       "      <td>A newly-built hospital in Wuhan has taken in i...</td>\n",
       "      <td>RT @XHNews: A newly-built hospital in Wuhan ha...</td>\n",
       "      <td>en</td>\n",
       "    </tr>\n",
       "    <tr>\n",
       "      <td>19999</td>\n",
       "      <td>1224558697340268545</td>\n",
       "      <td>Tue Feb 04 05:01:59 +0000 2020</td>\n",
       "      <td>371689147</td>\n",
       "      <td>Shocking footage showing Chinese person resist...</td>\n",
       "      <td>RT @ISCResearch: Shocking footage showing Chin...</td>\n",
       "      <td>en</td>\n",
       "    </tr>\n",
       "  </tbody>\n",
       "</table>\n",
       "<p>20000 rows × 6 columns</p>\n",
       "</div>"
      ],
      "text/plain": [
       "                     tweet_id                tweet_created_at  \\\n",
       "0       \"1224513118593802241\"  Tue Feb 04 02:00:52 +0000 2020   \n",
       "1         1224513626813300736  Tue Feb 04 02:02:53 +0000 2020   \n",
       "2         1224515552493727744  Tue Feb 04 02:10:32 +0000 2020   \n",
       "3         1224515552632135680  Tue Feb 04 02:10:32 +0000 2020   \n",
       "4         1224517416467795969  Tue Feb 04 02:17:57 +0000 2020   \n",
       "...                       ...                             ...   \n",
       "19995     1224558687395516416  Tue Feb 04 05:01:56 +0000 2020   \n",
       "19996     1224558694307745792  Tue Feb 04 05:01:58 +0000 2020   \n",
       "19997     1224558695901585408  Tue Feb 04 05:01:58 +0000 2020   \n",
       "19998     1224558696350523393  Tue Feb 04 05:01:59 +0000 2020   \n",
       "19999     1224558697340268545  Tue Feb 04 05:01:59 +0000 2020   \n",
       "\n",
       "                   User_Id                                     Extended_Tweet  \\\n",
       "0               3906515918  Watch what happened at 45:26 in @trumpet_news'...   \n",
       "1                 24327775  @bairdjulia And yet, we are relying on science...   \n",
       "2      1147389922782801920  \"The government is useless. They should close ...   \n",
       "3                308010504  Lockdown in Wuhan: Instructions on how to stop...   \n",
       "4                141437393  Hey, @DickGordonDG, still proud of sending mil...   \n",
       "...                    ...                                                ...   \n",
       "19995   953557252547293184  Due to severe of #CoronaVirus in China governm...   \n",
       "19996            254820047  Necessity is the mother of ADOPTION. https://t...   \n",
       "19997           2225205308  @MishraVn U don't u take a trip to #Wuhan to f...   \n",
       "19998           1132379004  A newly-built hospital in Wuhan has taken in i...   \n",
       "19999            371689147  Shocking footage showing Chinese person resist...   \n",
       "\n",
       "                                              tweet_text tweet_lang  \n",
       "0      Watch what happened at 45:26 in @trumpet_news'...         en  \n",
       "1      RT @Therese_Rein: @bairdjulia And yet, we are ...         en  \n",
       "2      RT @dwnews: \"The government is useless. They s...         en  \n",
       "3      RT @MariettaDaviz: Lockdown in Wuhan: Instruct...         en  \n",
       "4      RT @leahnavarro: Hey, @DickGordonDG, still pro...         en  \n",
       "...                                                  ...        ...  \n",
       "19995  Due to severe of #CoronaVirus in China governm...         en  \n",
       "19996               Necessity is the mother of ADOPTION.         en  \n",
       "19997  @MishraVn U don't u take a trip to #Wuhan to f...         en  \n",
       "19998  RT @XHNews: A newly-built hospital in Wuhan ha...         en  \n",
       "19999  RT @ISCResearch: Shocking footage showing Chin...         en  \n",
       "\n",
       "[20000 rows x 6 columns]"
      ]
     },
     "execution_count": 17,
     "metadata": {},
     "output_type": "execute_result"
    }
   ],
   "source": [
    "df_t=pd.read_csv('New_Corona_Tweets_File.csv',sep=';')\n",
    "df_t"
   ]
  },
  {
   "cell_type": "code",
   "execution_count": 18,
   "metadata": {},
   "outputs": [],
   "source": [
    "# try to extract time\n",
    "from datetime import datetime\n",
    "import time\n",
    "Date=[]\n",
    "Time=[]\n",
    "for i in list(df_t['tweet_created_at']):\n",
    "    ts = time.strftime('%Y-%m-%d %H:%M:%S', time.strptime(i,'%a %b %d %H:%M:%S +0000 %Y'))\n",
    "    Date.append(ts[:10])\n",
    "    Time.append(ts[11:])\n",
    "df_t[\"Date\"]=Date\n",
    "df_t['Time']=Time\n"
   ]
  },
  {
   "cell_type": "code",
   "execution_count": 19,
   "metadata": {},
   "outputs": [
    {
     "data": {
      "text/html": [
       "<div>\n",
       "<style scoped>\n",
       "    .dataframe tbody tr th:only-of-type {\n",
       "        vertical-align: middle;\n",
       "    }\n",
       "\n",
       "    .dataframe tbody tr th {\n",
       "        vertical-align: top;\n",
       "    }\n",
       "\n",
       "    .dataframe thead th {\n",
       "        text-align: right;\n",
       "    }\n",
       "</style>\n",
       "<table border=\"1\" class=\"dataframe\">\n",
       "  <thead>\n",
       "    <tr style=\"text-align: right;\">\n",
       "      <th></th>\n",
       "      <th>tweet_id</th>\n",
       "      <th>tweet_created_at</th>\n",
       "      <th>User_Id</th>\n",
       "      <th>Extended_Tweet</th>\n",
       "      <th>tweet_text</th>\n",
       "      <th>tweet_lang</th>\n",
       "      <th>Date</th>\n",
       "      <th>Time</th>\n",
       "    </tr>\n",
       "  </thead>\n",
       "  <tbody>\n",
       "    <tr>\n",
       "      <td>0</td>\n",
       "      <td>\"1224513118593802241\"</td>\n",
       "      <td>Tue Feb 04 02:00:52 +0000 2020</td>\n",
       "      <td>3906515918</td>\n",
       "      <td>Watch what happened at 45:26 in @trumpet_news'...</td>\n",
       "      <td>Watch what happened at 45:26 in @trumpet_news'...</td>\n",
       "      <td>en</td>\n",
       "      <td>2020-02-04</td>\n",
       "      <td>02:00:52</td>\n",
       "    </tr>\n",
       "    <tr>\n",
       "      <td>1</td>\n",
       "      <td>1224513626813300736</td>\n",
       "      <td>Tue Feb 04 02:02:53 +0000 2020</td>\n",
       "      <td>24327775</td>\n",
       "      <td>@bairdjulia And yet, we are relying on science...</td>\n",
       "      <td>RT @Therese_Rein: @bairdjulia And yet, we are ...</td>\n",
       "      <td>en</td>\n",
       "      <td>2020-02-04</td>\n",
       "      <td>02:02:53</td>\n",
       "    </tr>\n",
       "    <tr>\n",
       "      <td>2</td>\n",
       "      <td>1224515552493727744</td>\n",
       "      <td>Tue Feb 04 02:10:32 +0000 2020</td>\n",
       "      <td>1147389922782801920</td>\n",
       "      <td>\"The government is useless. They should close ...</td>\n",
       "      <td>RT @dwnews: \"The government is useless. They s...</td>\n",
       "      <td>en</td>\n",
       "      <td>2020-02-04</td>\n",
       "      <td>02:10:32</td>\n",
       "    </tr>\n",
       "    <tr>\n",
       "      <td>3</td>\n",
       "      <td>1224515552632135680</td>\n",
       "      <td>Tue Feb 04 02:10:32 +0000 2020</td>\n",
       "      <td>308010504</td>\n",
       "      <td>Lockdown in Wuhan: Instructions on how to stop...</td>\n",
       "      <td>RT @MariettaDaviz: Lockdown in Wuhan: Instruct...</td>\n",
       "      <td>en</td>\n",
       "      <td>2020-02-04</td>\n",
       "      <td>02:10:32</td>\n",
       "    </tr>\n",
       "    <tr>\n",
       "      <td>4</td>\n",
       "      <td>1224517416467795969</td>\n",
       "      <td>Tue Feb 04 02:17:57 +0000 2020</td>\n",
       "      <td>141437393</td>\n",
       "      <td>Hey, @DickGordonDG, still proud of sending mil...</td>\n",
       "      <td>RT @leahnavarro: Hey, @DickGordonDG, still pro...</td>\n",
       "      <td>en</td>\n",
       "      <td>2020-02-04</td>\n",
       "      <td>02:17:57</td>\n",
       "    </tr>\n",
       "  </tbody>\n",
       "</table>\n",
       "</div>"
      ],
      "text/plain": [
       "                 tweet_id                tweet_created_at  \\\n",
       "0   \"1224513118593802241\"  Tue Feb 04 02:00:52 +0000 2020   \n",
       "1     1224513626813300736  Tue Feb 04 02:02:53 +0000 2020   \n",
       "2     1224515552493727744  Tue Feb 04 02:10:32 +0000 2020   \n",
       "3     1224515552632135680  Tue Feb 04 02:10:32 +0000 2020   \n",
       "4     1224517416467795969  Tue Feb 04 02:17:57 +0000 2020   \n",
       "\n",
       "               User_Id                                     Extended_Tweet  \\\n",
       "0           3906515918  Watch what happened at 45:26 in @trumpet_news'...   \n",
       "1             24327775  @bairdjulia And yet, we are relying on science...   \n",
       "2  1147389922782801920  \"The government is useless. They should close ...   \n",
       "3            308010504  Lockdown in Wuhan: Instructions on how to stop...   \n",
       "4            141437393  Hey, @DickGordonDG, still proud of sending mil...   \n",
       "\n",
       "                                          tweet_text tweet_lang        Date  \\\n",
       "0  Watch what happened at 45:26 in @trumpet_news'...         en  2020-02-04   \n",
       "1  RT @Therese_Rein: @bairdjulia And yet, we are ...         en  2020-02-04   \n",
       "2  RT @dwnews: \"The government is useless. They s...         en  2020-02-04   \n",
       "3  RT @MariettaDaviz: Lockdown in Wuhan: Instruct...         en  2020-02-04   \n",
       "4  RT @leahnavarro: Hey, @DickGordonDG, still pro...         en  2020-02-04   \n",
       "\n",
       "       Time  \n",
       "0  02:00:52  \n",
       "1  02:02:53  \n",
       "2  02:10:32  \n",
       "3  02:10:32  \n",
       "4  02:17:57  "
      ]
     },
     "execution_count": 19,
     "metadata": {},
     "output_type": "execute_result"
    }
   ],
   "source": [
    "df_t.head()"
   ]
  },
  {
   "cell_type": "code",
   "execution_count": 20,
   "metadata": {},
   "outputs": [],
   "source": [
    "df_t.drop(labels=['tweet_text','tweet_lang','tweet_created_at'],axis=1,inplace=True)"
   ]
  },
  {
   "cell_type": "code",
   "execution_count": 21,
   "metadata": {},
   "outputs": [
    {
     "data": {
      "text/html": [
       "<div>\n",
       "<style scoped>\n",
       "    .dataframe tbody tr th:only-of-type {\n",
       "        vertical-align: middle;\n",
       "    }\n",
       "\n",
       "    .dataframe tbody tr th {\n",
       "        vertical-align: top;\n",
       "    }\n",
       "\n",
       "    .dataframe thead th {\n",
       "        text-align: right;\n",
       "    }\n",
       "</style>\n",
       "<table border=\"1\" class=\"dataframe\">\n",
       "  <thead>\n",
       "    <tr style=\"text-align: right;\">\n",
       "      <th></th>\n",
       "      <th>tweet_id</th>\n",
       "      <th>User_Id</th>\n",
       "      <th>Extended_Tweet</th>\n",
       "      <th>Date</th>\n",
       "      <th>Time</th>\n",
       "    </tr>\n",
       "  </thead>\n",
       "  <tbody>\n",
       "    <tr>\n",
       "      <td>0</td>\n",
       "      <td>\"1224513118593802241\"</td>\n",
       "      <td>3906515918</td>\n",
       "      <td>Watch what happened at 45:26 in @trumpet_news'...</td>\n",
       "      <td>2020-02-04</td>\n",
       "      <td>02:00:52</td>\n",
       "    </tr>\n",
       "    <tr>\n",
       "      <td>1</td>\n",
       "      <td>1224513626813300736</td>\n",
       "      <td>24327775</td>\n",
       "      <td>@bairdjulia And yet, we are relying on science...</td>\n",
       "      <td>2020-02-04</td>\n",
       "      <td>02:02:53</td>\n",
       "    </tr>\n",
       "    <tr>\n",
       "      <td>2</td>\n",
       "      <td>1224515552493727744</td>\n",
       "      <td>1147389922782801920</td>\n",
       "      <td>\"The government is useless. They should close ...</td>\n",
       "      <td>2020-02-04</td>\n",
       "      <td>02:10:32</td>\n",
       "    </tr>\n",
       "    <tr>\n",
       "      <td>3</td>\n",
       "      <td>1224515552632135680</td>\n",
       "      <td>308010504</td>\n",
       "      <td>Lockdown in Wuhan: Instructions on how to stop...</td>\n",
       "      <td>2020-02-04</td>\n",
       "      <td>02:10:32</td>\n",
       "    </tr>\n",
       "    <tr>\n",
       "      <td>4</td>\n",
       "      <td>1224517416467795969</td>\n",
       "      <td>141437393</td>\n",
       "      <td>Hey, @DickGordonDG, still proud of sending mil...</td>\n",
       "      <td>2020-02-04</td>\n",
       "      <td>02:17:57</td>\n",
       "    </tr>\n",
       "    <tr>\n",
       "      <td>...</td>\n",
       "      <td>...</td>\n",
       "      <td>...</td>\n",
       "      <td>...</td>\n",
       "      <td>...</td>\n",
       "      <td>...</td>\n",
       "    </tr>\n",
       "    <tr>\n",
       "      <td>19995</td>\n",
       "      <td>1224558687395516416</td>\n",
       "      <td>953557252547293184</td>\n",
       "      <td>Due to severe of #CoronaVirus in China governm...</td>\n",
       "      <td>2020-02-04</td>\n",
       "      <td>05:01:56</td>\n",
       "    </tr>\n",
       "    <tr>\n",
       "      <td>19996</td>\n",
       "      <td>1224558694307745792</td>\n",
       "      <td>254820047</td>\n",
       "      <td>Necessity is the mother of ADOPTION. https://t...</td>\n",
       "      <td>2020-02-04</td>\n",
       "      <td>05:01:58</td>\n",
       "    </tr>\n",
       "    <tr>\n",
       "      <td>19997</td>\n",
       "      <td>1224558695901585408</td>\n",
       "      <td>2225205308</td>\n",
       "      <td>@MishraVn U don't u take a trip to #Wuhan to f...</td>\n",
       "      <td>2020-02-04</td>\n",
       "      <td>05:01:58</td>\n",
       "    </tr>\n",
       "    <tr>\n",
       "      <td>19998</td>\n",
       "      <td>1224558696350523393</td>\n",
       "      <td>1132379004</td>\n",
       "      <td>A newly-built hospital in Wuhan has taken in i...</td>\n",
       "      <td>2020-02-04</td>\n",
       "      <td>05:01:59</td>\n",
       "    </tr>\n",
       "    <tr>\n",
       "      <td>19999</td>\n",
       "      <td>1224558697340268545</td>\n",
       "      <td>371689147</td>\n",
       "      <td>Shocking footage showing Chinese person resist...</td>\n",
       "      <td>2020-02-04</td>\n",
       "      <td>05:01:59</td>\n",
       "    </tr>\n",
       "  </tbody>\n",
       "</table>\n",
       "<p>20000 rows × 5 columns</p>\n",
       "</div>"
      ],
      "text/plain": [
       "                     tweet_id              User_Id  \\\n",
       "0       \"1224513118593802241\"           3906515918   \n",
       "1         1224513626813300736             24327775   \n",
       "2         1224515552493727744  1147389922782801920   \n",
       "3         1224515552632135680            308010504   \n",
       "4         1224517416467795969            141437393   \n",
       "...                       ...                  ...   \n",
       "19995     1224558687395516416   953557252547293184   \n",
       "19996     1224558694307745792            254820047   \n",
       "19997     1224558695901585408           2225205308   \n",
       "19998     1224558696350523393           1132379004   \n",
       "19999     1224558697340268545            371689147   \n",
       "\n",
       "                                          Extended_Tweet        Date      Time  \n",
       "0      Watch what happened at 45:26 in @trumpet_news'...  2020-02-04  02:00:52  \n",
       "1      @bairdjulia And yet, we are relying on science...  2020-02-04  02:02:53  \n",
       "2      \"The government is useless. They should close ...  2020-02-04  02:10:32  \n",
       "3      Lockdown in Wuhan: Instructions on how to stop...  2020-02-04  02:10:32  \n",
       "4      Hey, @DickGordonDG, still proud of sending mil...  2020-02-04  02:17:57  \n",
       "...                                                  ...         ...       ...  \n",
       "19995  Due to severe of #CoronaVirus in China governm...  2020-02-04  05:01:56  \n",
       "19996  Necessity is the mother of ADOPTION. https://t...  2020-02-04  05:01:58  \n",
       "19997  @MishraVn U don't u take a trip to #Wuhan to f...  2020-02-04  05:01:58  \n",
       "19998  A newly-built hospital in Wuhan has taken in i...  2020-02-04  05:01:59  \n",
       "19999  Shocking footage showing Chinese person resist...  2020-02-04  05:01:59  \n",
       "\n",
       "[20000 rows x 5 columns]"
      ]
     },
     "execution_count": 21,
     "metadata": {},
     "output_type": "execute_result"
    }
   ],
   "source": [
    "df_t.sort_values(by='Time')"
   ]
  },
  {
   "cell_type": "code",
   "execution_count": 43,
   "metadata": {},
   "outputs": [
    {
     "data": {
      "text/html": [
       "<div>\n",
       "<style scoped>\n",
       "    .dataframe tbody tr th:only-of-type {\n",
       "        vertical-align: middle;\n",
       "    }\n",
       "\n",
       "    .dataframe tbody tr th {\n",
       "        vertical-align: top;\n",
       "    }\n",
       "\n",
       "    .dataframe thead th {\n",
       "        text-align: right;\n",
       "    }\n",
       "</style>\n",
       "<table border=\"1\" class=\"dataframe\">\n",
       "  <thead>\n",
       "    <tr style=\"text-align: right;\">\n",
       "      <th></th>\n",
       "      <th>tweet_id</th>\n",
       "      <th>User_Id</th>\n",
       "      <th>Extended_Tweet</th>\n",
       "      <th>Date</th>\n",
       "      <th>Time</th>\n",
       "      <th>Tweets</th>\n",
       "      <th>prediction</th>\n",
       "    </tr>\n",
       "  </thead>\n",
       "  <tbody>\n",
       "    <tr>\n",
       "      <td>0</td>\n",
       "      <td>\"1224513118593802241\"</td>\n",
       "      <td>3906515918</td>\n",
       "      <td>Watch what happened at 45:26 in @trumpet_news'...</td>\n",
       "      <td>2020-02-04</td>\n",
       "      <td>02:00:52</td>\n",
       "      <td>Watch what happened at  in  broadcast: LIVE:  ...</td>\n",
       "      <td>2</td>\n",
       "    </tr>\n",
       "    <tr>\n",
       "      <td>1</td>\n",
       "      <td>1224513626813300736</td>\n",
       "      <td>24327775</td>\n",
       "      <td>@bairdjulia And yet, we are relying on science...</td>\n",
       "      <td>2020-02-04</td>\n",
       "      <td>02:02:53</td>\n",
       "      <td>And yet, we are relying on science to identif...</td>\n",
       "      <td>0</td>\n",
       "    </tr>\n",
       "    <tr>\n",
       "      <td>2</td>\n",
       "      <td>1224515552493727744</td>\n",
       "      <td>1147389922782801920</td>\n",
       "      <td>\"The government is useless. They should close ...</td>\n",
       "      <td>2020-02-04</td>\n",
       "      <td>02:10:32</td>\n",
       "      <td>\"The government is useless. They should close ...</td>\n",
       "      <td>2</td>\n",
       "    </tr>\n",
       "    <tr>\n",
       "      <td>3</td>\n",
       "      <td>1224515552632135680</td>\n",
       "      <td>308010504</td>\n",
       "      <td>Lockdown in Wuhan: Instructions on how to stop...</td>\n",
       "      <td>2020-02-04</td>\n",
       "      <td>02:10:32</td>\n",
       "      <td>Lockdown in Wuhan: Instructions on how to stop...</td>\n",
       "      <td>0</td>\n",
       "    </tr>\n",
       "    <tr>\n",
       "      <td>4</td>\n",
       "      <td>1224517416467795969</td>\n",
       "      <td>141437393</td>\n",
       "      <td>Hey, @DickGordonDG, still proud of sending mil...</td>\n",
       "      <td>2020-02-04</td>\n",
       "      <td>02:17:57</td>\n",
       "      <td>Hey,  still proud of sending millions of masks...</td>\n",
       "      <td>1</td>\n",
       "    </tr>\n",
       "    <tr>\n",
       "      <td>...</td>\n",
       "      <td>...</td>\n",
       "      <td>...</td>\n",
       "      <td>...</td>\n",
       "      <td>...</td>\n",
       "      <td>...</td>\n",
       "      <td>...</td>\n",
       "      <td>...</td>\n",
       "    </tr>\n",
       "    <tr>\n",
       "      <td>19995</td>\n",
       "      <td>1224558687395516416</td>\n",
       "      <td>953557252547293184</td>\n",
       "      <td>Due to severe of #CoronaVirus in China governm...</td>\n",
       "      <td>2020-02-04</td>\n",
       "      <td>05:01:56</td>\n",
       "      <td>Due to severe of  in China government was kill...</td>\n",
       "      <td>2</td>\n",
       "    </tr>\n",
       "    <tr>\n",
       "      <td>19996</td>\n",
       "      <td>1224558694307745792</td>\n",
       "      <td>254820047</td>\n",
       "      <td>Necessity is the mother of ADOPTION. https://t...</td>\n",
       "      <td>2020-02-04</td>\n",
       "      <td>05:01:58</td>\n",
       "      <td>Necessity is the mother of ADOPTION.</td>\n",
       "      <td>2</td>\n",
       "    </tr>\n",
       "    <tr>\n",
       "      <td>19997</td>\n",
       "      <td>1224558695901585408</td>\n",
       "      <td>2225205308</td>\n",
       "      <td>@MishraVn U don't u take a trip to #Wuhan to f...</td>\n",
       "      <td>2020-02-04</td>\n",
       "      <td>05:01:58</td>\n",
       "      <td>U do not u take a trip to  to find out the tr...</td>\n",
       "      <td>0</td>\n",
       "    </tr>\n",
       "    <tr>\n",
       "      <td>19998</td>\n",
       "      <td>1224558696350523393</td>\n",
       "      <td>1132379004</td>\n",
       "      <td>A newly-built hospital in Wuhan has taken in i...</td>\n",
       "      <td>2020-02-04</td>\n",
       "      <td>05:01:59</td>\n",
       "      <td>A newly-built hospital in Wuhan has taken in i...</td>\n",
       "      <td>1</td>\n",
       "    </tr>\n",
       "    <tr>\n",
       "      <td>19999</td>\n",
       "      <td>1224558697340268545</td>\n",
       "      <td>371689147</td>\n",
       "      <td>Shocking footage showing Chinese person resist...</td>\n",
       "      <td>2020-02-04</td>\n",
       "      <td>05:01:59</td>\n",
       "      <td>Shocking footage showing Chinese person resist...</td>\n",
       "      <td>2</td>\n",
       "    </tr>\n",
       "  </tbody>\n",
       "</table>\n",
       "<p>20000 rows × 7 columns</p>\n",
       "</div>"
      ],
      "text/plain": [
       "                     tweet_id              User_Id  \\\n",
       "0       \"1224513118593802241\"           3906515918   \n",
       "1         1224513626813300736             24327775   \n",
       "2         1224515552493727744  1147389922782801920   \n",
       "3         1224515552632135680            308010504   \n",
       "4         1224517416467795969            141437393   \n",
       "...                       ...                  ...   \n",
       "19995     1224558687395516416   953557252547293184   \n",
       "19996     1224558694307745792            254820047   \n",
       "19997     1224558695901585408           2225205308   \n",
       "19998     1224558696350523393           1132379004   \n",
       "19999     1224558697340268545            371689147   \n",
       "\n",
       "                                          Extended_Tweet        Date  \\\n",
       "0      Watch what happened at 45:26 in @trumpet_news'...  2020-02-04   \n",
       "1      @bairdjulia And yet, we are relying on science...  2020-02-04   \n",
       "2      \"The government is useless. They should close ...  2020-02-04   \n",
       "3      Lockdown in Wuhan: Instructions on how to stop...  2020-02-04   \n",
       "4      Hey, @DickGordonDG, still proud of sending mil...  2020-02-04   \n",
       "...                                                  ...         ...   \n",
       "19995  Due to severe of #CoronaVirus in China governm...  2020-02-04   \n",
       "19996  Necessity is the mother of ADOPTION. https://t...  2020-02-04   \n",
       "19997  @MishraVn U don't u take a trip to #Wuhan to f...  2020-02-04   \n",
       "19998  A newly-built hospital in Wuhan has taken in i...  2020-02-04   \n",
       "19999  Shocking footage showing Chinese person resist...  2020-02-04   \n",
       "\n",
       "           Time                                             Tweets  prediction  \n",
       "0      02:00:52  Watch what happened at  in  broadcast: LIVE:  ...           2  \n",
       "1      02:02:53   And yet, we are relying on science to identif...           0  \n",
       "2      02:10:32  \"The government is useless. They should close ...           2  \n",
       "3      02:10:32  Lockdown in Wuhan: Instructions on how to stop...           0  \n",
       "4      02:17:57  Hey,  still proud of sending millions of masks...           1  \n",
       "...         ...                                                ...         ...  \n",
       "19995  05:01:56  Due to severe of  in China government was kill...           2  \n",
       "19996  05:01:58              Necessity is the mother of ADOPTION.            2  \n",
       "19997  05:01:58   U do not u take a trip to  to find out the tr...           0  \n",
       "19998  05:01:59  A newly-built hospital in Wuhan has taken in i...           1  \n",
       "19999  05:01:59  Shocking footage showing Chinese person resist...           2  \n",
       "\n",
       "[20000 rows x 7 columns]"
      ]
     },
     "execution_count": 43,
     "metadata": {},
     "output_type": "execute_result"
    }
   ],
   "source": [
    "df_c=pd.concat([df_t,df_label],axis=1)\n",
    "df_c"
   ]
  },
  {
   "cell_type": "code",
   "execution_count": 44,
   "metadata": {},
   "outputs": [
    {
     "data": {
      "text/plain": [
       "tweet_id          0\n",
       "User_Id           0\n",
       "Extended_Tweet    0\n",
       "Date              0\n",
       "Time              0\n",
       "Tweets            0\n",
       "prediction        0\n",
       "dtype: int64"
      ]
     },
     "execution_count": 44,
     "metadata": {},
     "output_type": "execute_result"
    }
   ],
   "source": [
    "# checking the null values\n",
    "df_c.isna().sum()"
   ]
  },
  {
   "cell_type": "code",
   "execution_count": 22,
   "metadata": {
    "scrolled": true
   },
   "outputs": [
    {
     "data": {
      "text/html": [
       "<div>\n",
       "<style scoped>\n",
       "    .dataframe tbody tr th:only-of-type {\n",
       "        vertical-align: middle;\n",
       "    }\n",
       "\n",
       "    .dataframe tbody tr th {\n",
       "        vertical-align: top;\n",
       "    }\n",
       "\n",
       "    .dataframe thead th {\n",
       "        text-align: right;\n",
       "    }\n",
       "</style>\n",
       "<table border=\"1\" class=\"dataframe\">\n",
       "  <thead>\n",
       "    <tr style=\"text-align: right;\">\n",
       "      <th></th>\n",
       "      <th>User_Id</th>\n",
       "      <th>User_Created_at</th>\n",
       "      <th>User_Friends_Count</th>\n",
       "      <th>User_Listed_Count</th>\n",
       "      <th>User_Favourites_Count</th>\n",
       "      <th>User_Statuses_Count</th>\n",
       "      <th>User_Verified</th>\n",
       "      <th>User_Location</th>\n",
       "    </tr>\n",
       "  </thead>\n",
       "  <tbody>\n",
       "    <tr>\n",
       "      <td>0</td>\n",
       "      <td>3906515918</td>\n",
       "      <td>Thu Oct 15 20:50:08 +0000 2015</td>\n",
       "      <td>9826</td>\n",
       "      <td>8</td>\n",
       "      <td>52573</td>\n",
       "      <td>80411</td>\n",
       "      <td>0</td>\n",
       "      <td>the planet of Kashyyyk</td>\n",
       "    </tr>\n",
       "    <tr>\n",
       "      <td>1</td>\n",
       "      <td>24327775</td>\n",
       "      <td>Sat Mar 14 04:22:57 +0000 2009</td>\n",
       "      <td>3381</td>\n",
       "      <td>2</td>\n",
       "      <td>38476</td>\n",
       "      <td>27580</td>\n",
       "      <td>0</td>\n",
       "      <td>NaN</td>\n",
       "    </tr>\n",
       "    <tr>\n",
       "      <td>2</td>\n",
       "      <td>1147389922782801920</td>\n",
       "      <td>Sat Jul 06 06:20:49 +0000 2019</td>\n",
       "      <td>781</td>\n",
       "      <td>1</td>\n",
       "      <td>10211</td>\n",
       "      <td>3090</td>\n",
       "      <td>0</td>\n",
       "      <td>Hong Kong</td>\n",
       "    </tr>\n",
       "    <tr>\n",
       "      <td>3</td>\n",
       "      <td>308010504</td>\n",
       "      <td>Mon May 30 17:40:20 +0000 2011</td>\n",
       "      <td>119</td>\n",
       "      <td>1</td>\n",
       "      <td>992</td>\n",
       "      <td>33370</td>\n",
       "      <td>0</td>\n",
       "      <td>NaN</td>\n",
       "    </tr>\n",
       "    <tr>\n",
       "      <td>4</td>\n",
       "      <td>141437393</td>\n",
       "      <td>Sat May 08 03:03:04 +0000 2010</td>\n",
       "      <td>1594</td>\n",
       "      <td>37</td>\n",
       "      <td>37020</td>\n",
       "      <td>325296</td>\n",
       "      <td>0</td>\n",
       "      <td>NaN</td>\n",
       "    </tr>\n",
       "  </tbody>\n",
       "</table>\n",
       "</div>"
      ],
      "text/plain": [
       "               User_Id                 User_Created_at  User_Friends_Count  \\\n",
       "0           3906515918  Thu Oct 15 20:50:08 +0000 2015                9826   \n",
       "1             24327775  Sat Mar 14 04:22:57 +0000 2009                3381   \n",
       "2  1147389922782801920  Sat Jul 06 06:20:49 +0000 2019                 781   \n",
       "3            308010504  Mon May 30 17:40:20 +0000 2011                 119   \n",
       "4            141437393  Sat May 08 03:03:04 +0000 2010                1594   \n",
       "\n",
       "   User_Listed_Count  User_Favourites_Count  User_Statuses_Count  \\\n",
       "0                  8                  52573                80411   \n",
       "1                  2                  38476                27580   \n",
       "2                  1                  10211                 3090   \n",
       "3                  1                    992                33370   \n",
       "4                 37                  37020               325296   \n",
       "\n",
       "   User_Verified           User_Location  \n",
       "0              0  the planet of Kashyyyk  \n",
       "1              0                     NaN  \n",
       "2              0               Hong Kong  \n",
       "3              0                     NaN  \n",
       "4              0                     NaN  "
      ]
     },
     "execution_count": 22,
     "metadata": {},
     "output_type": "execute_result"
    }
   ],
   "source": [
    "df_u = pd.read_csv('UserInfo.csv',sep=\";\")\n",
    "df_u.head()"
   ]
  },
  {
   "cell_type": "code",
   "execution_count": 23,
   "metadata": {},
   "outputs": [
    {
     "data": {
      "text/plain": [
       "(20000, 8)"
      ]
     },
     "execution_count": 23,
     "metadata": {},
     "output_type": "execute_result"
    }
   ],
   "source": [
    "df_u.shape"
   ]
  },
  {
   "cell_type": "code",
   "execution_count": 24,
   "metadata": {},
   "outputs": [
    {
     "data": {
      "text/plain": [
       "User_Id                     0\n",
       "User_Created_at             0\n",
       "User_Friends_Count          0\n",
       "User_Listed_Count           0\n",
       "User_Favourites_Count       0\n",
       "User_Statuses_Count         0\n",
       "User_Verified               0\n",
       "User_Location            7180\n",
       "dtype: int64"
      ]
     },
     "execution_count": 24,
     "metadata": {},
     "output_type": "execute_result"
    }
   ],
   "source": [
    "df_u.isna().sum()"
   ]
  },
  {
   "cell_type": "code",
   "execution_count": 27,
   "metadata": {},
   "outputs": [
    {
     "data": {
      "text/plain": [
       "User_Id                  583\n",
       "User_Created_at          583\n",
       "User_Friends_Count       583\n",
       "User_Listed_Count        583\n",
       "User_Favourites_Count    583\n",
       "User_Statuses_Count      583\n",
       "User_Verified            583\n",
       "User_Location            536\n",
       "Date                     583\n",
       "Time                     583\n",
       "dtype: int64"
      ]
     },
     "execution_count": 27,
     "metadata": {},
     "output_type": "execute_result"
    }
   ],
   "source": [
    "df_u[df_u['User_Verified']==1].count() #authentic public account"
   ]
  },
  {
   "cell_type": "code",
   "execution_count": 28,
   "metadata": {},
   "outputs": [],
   "source": [
    "df_u.drop(labels=['User_Created_at','Time'],axis=1,inplace=True)"
   ]
  },
  {
   "cell_type": "code",
   "execution_count": 29,
   "metadata": {},
   "outputs": [],
   "source": [
    "df_u.rename(mapper={'Date':'Date_user'},axis=1,inplace=True)"
   ]
  },
  {
   "cell_type": "code",
   "execution_count": 30,
   "metadata": {},
   "outputs": [],
   "source": [
    "df_u.dropna(inplace=True)"
   ]
  },
  {
   "cell_type": "code",
   "execution_count": 38,
   "metadata": {},
   "outputs": [
    {
     "data": {
      "text/html": [
       "<div>\n",
       "<style scoped>\n",
       "    .dataframe tbody tr th:only-of-type {\n",
       "        vertical-align: middle;\n",
       "    }\n",
       "\n",
       "    .dataframe tbody tr th {\n",
       "        vertical-align: top;\n",
       "    }\n",
       "\n",
       "    .dataframe thead th {\n",
       "        text-align: right;\n",
       "    }\n",
       "</style>\n",
       "<table border=\"1\" class=\"dataframe\">\n",
       "  <thead>\n",
       "    <tr style=\"text-align: right;\">\n",
       "      <th></th>\n",
       "      <th>User_Id</th>\n",
       "      <th>User_Friends_Count</th>\n",
       "      <th>User_Listed_Count</th>\n",
       "      <th>User_Favourites_Count</th>\n",
       "      <th>User_Statuses_Count</th>\n",
       "      <th>User_Verified</th>\n",
       "      <th>User_Location</th>\n",
       "      <th>Date_user</th>\n",
       "    </tr>\n",
       "  </thead>\n",
       "  <tbody>\n",
       "    <tr>\n",
       "      <td>0</td>\n",
       "      <td>3906515918</td>\n",
       "      <td>9826</td>\n",
       "      <td>8</td>\n",
       "      <td>52573</td>\n",
       "      <td>80411</td>\n",
       "      <td>0</td>\n",
       "      <td>the planet of Kashyyyk</td>\n",
       "      <td>2015-10-15</td>\n",
       "    </tr>\n",
       "    <tr>\n",
       "      <td>2</td>\n",
       "      <td>1147389922782801920</td>\n",
       "      <td>781</td>\n",
       "      <td>1</td>\n",
       "      <td>10211</td>\n",
       "      <td>3090</td>\n",
       "      <td>0</td>\n",
       "      <td>Hong Kong</td>\n",
       "      <td>2019-07-06</td>\n",
       "    </tr>\n",
       "    <tr>\n",
       "      <td>6</td>\n",
       "      <td>926135138634944513</td>\n",
       "      <td>298</td>\n",
       "      <td>1</td>\n",
       "      <td>17917</td>\n",
       "      <td>6158</td>\n",
       "      <td>0</td>\n",
       "      <td>Dallas, TX</td>\n",
       "      <td>2017-11-02</td>\n",
       "    </tr>\n",
       "    <tr>\n",
       "      <td>7</td>\n",
       "      <td>263184813</td>\n",
       "      <td>783</td>\n",
       "      <td>26</td>\n",
       "      <td>1408</td>\n",
       "      <td>4935</td>\n",
       "      <td>0</td>\n",
       "      <td>Akron, Ohio</td>\n",
       "      <td>2011-03-09</td>\n",
       "    </tr>\n",
       "    <tr>\n",
       "      <td>8</td>\n",
       "      <td>787430933246816256</td>\n",
       "      <td>416</td>\n",
       "      <td>1</td>\n",
       "      <td>43693</td>\n",
       "      <td>23405</td>\n",
       "      <td>0</td>\n",
       "      <td>Orange, CA</td>\n",
       "      <td>2016-10-15</td>\n",
       "    </tr>\n",
       "    <tr>\n",
       "      <td>...</td>\n",
       "      <td>...</td>\n",
       "      <td>...</td>\n",
       "      <td>...</td>\n",
       "      <td>...</td>\n",
       "      <td>...</td>\n",
       "      <td>...</td>\n",
       "      <td>...</td>\n",
       "      <td>...</td>\n",
       "    </tr>\n",
       "    <tr>\n",
       "      <td>19995</td>\n",
       "      <td>1213801560884441088</td>\n",
       "      <td>1542</td>\n",
       "      <td>0</td>\n",
       "      <td>1824</td>\n",
       "      <td>1947</td>\n",
       "      <td>0</td>\n",
       "      <td>中国</td>\n",
       "      <td>2020-01-05</td>\n",
       "    </tr>\n",
       "    <tr>\n",
       "      <td>19996</td>\n",
       "      <td>17522884</td>\n",
       "      <td>76285</td>\n",
       "      <td>1586</td>\n",
       "      <td>3623</td>\n",
       "      <td>90639</td>\n",
       "      <td>0</td>\n",
       "      <td>Minneapolis, MN</td>\n",
       "      <td>2008-11-20</td>\n",
       "    </tr>\n",
       "    <tr>\n",
       "      <td>19997</td>\n",
       "      <td>80173790</td>\n",
       "      <td>873</td>\n",
       "      <td>13</td>\n",
       "      <td>18406</td>\n",
       "      <td>147563</td>\n",
       "      <td>0</td>\n",
       "      <td>Sioux Falls, SD</td>\n",
       "      <td>2009-10-06</td>\n",
       "    </tr>\n",
       "    <tr>\n",
       "      <td>19998</td>\n",
       "      <td>399985113</td>\n",
       "      <td>771</td>\n",
       "      <td>72</td>\n",
       "      <td>4833</td>\n",
       "      <td>2362</td>\n",
       "      <td>0</td>\n",
       "      <td>Merelbeke ~ Rotterdam</td>\n",
       "      <td>2011-10-28</td>\n",
       "    </tr>\n",
       "    <tr>\n",
       "      <td>19999</td>\n",
       "      <td>35607021</td>\n",
       "      <td>727</td>\n",
       "      <td>65</td>\n",
       "      <td>2540</td>\n",
       "      <td>35472</td>\n",
       "      <td>0</td>\n",
       "      <td>Toronto</td>\n",
       "      <td>2009-04-27</td>\n",
       "    </tr>\n",
       "  </tbody>\n",
       "</table>\n",
       "<p>12820 rows × 8 columns</p>\n",
       "</div>"
      ],
      "text/plain": [
       "                   User_Id  User_Friends_Count  User_Listed_Count  \\\n",
       "0               3906515918                9826                  8   \n",
       "2      1147389922782801920                 781                  1   \n",
       "6       926135138634944513                 298                  1   \n",
       "7                263184813                 783                 26   \n",
       "8       787430933246816256                 416                  1   \n",
       "...                    ...                 ...                ...   \n",
       "19995  1213801560884441088                1542                  0   \n",
       "19996             17522884               76285               1586   \n",
       "19997             80173790                 873                 13   \n",
       "19998            399985113                 771                 72   \n",
       "19999             35607021                 727                 65   \n",
       "\n",
       "       User_Favourites_Count  User_Statuses_Count  User_Verified  \\\n",
       "0                      52573                80411              0   \n",
       "2                      10211                 3090              0   \n",
       "6                      17917                 6158              0   \n",
       "7                       1408                 4935              0   \n",
       "8                      43693                23405              0   \n",
       "...                      ...                  ...            ...   \n",
       "19995                   1824                 1947              0   \n",
       "19996                   3623                90639              0   \n",
       "19997                  18406               147563              0   \n",
       "19998                   4833                 2362              0   \n",
       "19999                   2540                35472              0   \n",
       "\n",
       "                User_Location   Date_user  \n",
       "0      the planet of Kashyyyk  2015-10-15  \n",
       "2                   Hong Kong  2019-07-06  \n",
       "6                  Dallas, TX  2017-11-02  \n",
       "7                 Akron, Ohio  2011-03-09  \n",
       "8                  Orange, CA  2016-10-15  \n",
       "...                       ...         ...  \n",
       "19995                      中国  2020-01-05  \n",
       "19996         Minneapolis, MN  2008-11-20  \n",
       "19997         Sioux Falls, SD  2009-10-06  \n",
       "19998   Merelbeke ~ Rotterdam  2011-10-28  \n",
       "19999                 Toronto  2009-04-27  \n",
       "\n",
       "[12820 rows x 8 columns]"
      ]
     },
     "execution_count": 38,
     "metadata": {},
     "output_type": "execute_result"
    }
   ],
   "source": [
    "df_u"
   ]
  },
  {
   "cell_type": "code",
   "execution_count": 45,
   "metadata": {
    "scrolled": true
   },
   "outputs": [
    {
     "data": {
      "text/html": [
       "<div>\n",
       "<style scoped>\n",
       "    .dataframe tbody tr th:only-of-type {\n",
       "        vertical-align: middle;\n",
       "    }\n",
       "\n",
       "    .dataframe tbody tr th {\n",
       "        vertical-align: top;\n",
       "    }\n",
       "\n",
       "    .dataframe thead th {\n",
       "        text-align: right;\n",
       "    }\n",
       "</style>\n",
       "<table border=\"1\" class=\"dataframe\">\n",
       "  <thead>\n",
       "    <tr style=\"text-align: right;\">\n",
       "      <th></th>\n",
       "      <th>User_Id</th>\n",
       "      <th>User_Friends_Count</th>\n",
       "      <th>User_Listed_Count</th>\n",
       "      <th>User_Favourites_Count</th>\n",
       "      <th>User_Statuses_Count</th>\n",
       "      <th>User_Verified</th>\n",
       "      <th>User_Location</th>\n",
       "      <th>Date_user</th>\n",
       "      <th>tweet_id</th>\n",
       "      <th>Extended_Tweet</th>\n",
       "      <th>Date</th>\n",
       "      <th>Time</th>\n",
       "      <th>Tweets</th>\n",
       "      <th>prediction</th>\n",
       "    </tr>\n",
       "  </thead>\n",
       "  <tbody>\n",
       "    <tr>\n",
       "      <td>0</td>\n",
       "      <td>3906515918</td>\n",
       "      <td>9826</td>\n",
       "      <td>8</td>\n",
       "      <td>52573</td>\n",
       "      <td>80411</td>\n",
       "      <td>0</td>\n",
       "      <td>the planet of Kashyyyk</td>\n",
       "      <td>2015-10-15</td>\n",
       "      <td>\"1224513118593802241\"</td>\n",
       "      <td>Watch what happened at 45:26 in @trumpet_news'...</td>\n",
       "      <td>2020-02-04</td>\n",
       "      <td>02:00:52</td>\n",
       "      <td>Watch what happened at  in  broadcast: LIVE:  ...</td>\n",
       "      <td>2</td>\n",
       "    </tr>\n",
       "    <tr>\n",
       "      <td>1</td>\n",
       "      <td>1147389922782801920</td>\n",
       "      <td>781</td>\n",
       "      <td>1</td>\n",
       "      <td>10211</td>\n",
       "      <td>3090</td>\n",
       "      <td>0</td>\n",
       "      <td>Hong Kong</td>\n",
       "      <td>2019-07-06</td>\n",
       "      <td>1224515552493727744</td>\n",
       "      <td>\"The government is useless. They should close ...</td>\n",
       "      <td>2020-02-04</td>\n",
       "      <td>02:10:32</td>\n",
       "      <td>\"The government is useless. They should close ...</td>\n",
       "      <td>2</td>\n",
       "    </tr>\n",
       "    <tr>\n",
       "      <td>2</td>\n",
       "      <td>1147389922782801920</td>\n",
       "      <td>781</td>\n",
       "      <td>1</td>\n",
       "      <td>10211</td>\n",
       "      <td>3090</td>\n",
       "      <td>0</td>\n",
       "      <td>Hong Kong</td>\n",
       "      <td>2019-07-06</td>\n",
       "      <td>1224535811246264321</td>\n",
       "      <td>JUST IN: #Coronavirus: #HongKong's Carrie Lam ...</td>\n",
       "      <td>2020-02-04</td>\n",
       "      <td>03:31:02</td>\n",
       "      <td>JUST IN:   Carrie Lam denied there are politic...</td>\n",
       "      <td>0</td>\n",
       "    </tr>\n",
       "    <tr>\n",
       "      <td>3</td>\n",
       "      <td>1147389922782801920</td>\n",
       "      <td>781</td>\n",
       "      <td>1</td>\n",
       "      <td>10252</td>\n",
       "      <td>3106</td>\n",
       "      <td>0</td>\n",
       "      <td>Hong Kong</td>\n",
       "      <td>2019-07-06</td>\n",
       "      <td>1224515552493727744</td>\n",
       "      <td>\"The government is useless. They should close ...</td>\n",
       "      <td>2020-02-04</td>\n",
       "      <td>02:10:32</td>\n",
       "      <td>\"The government is useless. They should close ...</td>\n",
       "      <td>2</td>\n",
       "    </tr>\n",
       "    <tr>\n",
       "      <td>4</td>\n",
       "      <td>1147389922782801920</td>\n",
       "      <td>781</td>\n",
       "      <td>1</td>\n",
       "      <td>10252</td>\n",
       "      <td>3106</td>\n",
       "      <td>0</td>\n",
       "      <td>Hong Kong</td>\n",
       "      <td>2019-07-06</td>\n",
       "      <td>1224535811246264321</td>\n",
       "      <td>JUST IN: #Coronavirus: #HongKong's Carrie Lam ...</td>\n",
       "      <td>2020-02-04</td>\n",
       "      <td>03:31:02</td>\n",
       "      <td>JUST IN:   Carrie Lam denied there are politic...</td>\n",
       "      <td>0</td>\n",
       "    </tr>\n",
       "    <tr>\n",
       "      <td>...</td>\n",
       "      <td>...</td>\n",
       "      <td>...</td>\n",
       "      <td>...</td>\n",
       "      <td>...</td>\n",
       "      <td>...</td>\n",
       "      <td>...</td>\n",
       "      <td>...</td>\n",
       "      <td>...</td>\n",
       "      <td>...</td>\n",
       "      <td>...</td>\n",
       "      <td>...</td>\n",
       "      <td>...</td>\n",
       "      <td>...</td>\n",
       "      <td>...</td>\n",
       "    </tr>\n",
       "    <tr>\n",
       "      <td>37474</td>\n",
       "      <td>991119073303031809</td>\n",
       "      <td>1771</td>\n",
       "      <td>22</td>\n",
       "      <td>50905</td>\n",
       "      <td>14682</td>\n",
       "      <td>0</td>\n",
       "      <td>Chile</td>\n",
       "      <td>2018-05-01</td>\n",
       "      <td>1224553947748282368</td>\n",
       "      <td>China releases for #Dolittle, #1917Movie, #Joj...</td>\n",
       "      <td>2020-02-04</td>\n",
       "      <td>04:43:06</td>\n",
       "      <td>China releases for    canceled amid  crisis</td>\n",
       "      <td>2</td>\n",
       "    </tr>\n",
       "    <tr>\n",
       "      <td>37475</td>\n",
       "      <td>325268721</td>\n",
       "      <td>3601</td>\n",
       "      <td>16</td>\n",
       "      <td>71060</td>\n",
       "      <td>74497</td>\n",
       "      <td>0</td>\n",
       "      <td>Choctaw, OK</td>\n",
       "      <td>2011-06-28</td>\n",
       "      <td>1224553952148099072</td>\n",
       "      <td>The #coronavirus has hit the #IowaCaucus and t...</td>\n",
       "      <td>2020-02-04</td>\n",
       "      <td>04:43:07</td>\n",
       "      <td>The  has hit the  and the votes are under quar...</td>\n",
       "      <td>2</td>\n",
       "    </tr>\n",
       "    <tr>\n",
       "      <td>37476</td>\n",
       "      <td>1152331057846464512</td>\n",
       "      <td>2038</td>\n",
       "      <td>1</td>\n",
       "      <td>15300</td>\n",
       "      <td>5028</td>\n",
       "      <td>0</td>\n",
       "      <td>Toronto</td>\n",
       "      <td>2019-07-19</td>\n",
       "      <td>1224553953934946305</td>\n",
       "      <td>Did you donate to the Red Cross to help with t...</td>\n",
       "      <td>2020-02-04</td>\n",
       "      <td>04:43:08</td>\n",
       "      <td>Did you donate to the Red Cross to help with t...</td>\n",
       "      <td>2</td>\n",
       "    </tr>\n",
       "    <tr>\n",
       "      <td>37477</td>\n",
       "      <td>399985113</td>\n",
       "      <td>771</td>\n",
       "      <td>72</td>\n",
       "      <td>4833</td>\n",
       "      <td>2362</td>\n",
       "      <td>0</td>\n",
       "      <td>Merelbeke ~ Rotterdam</td>\n",
       "      <td>2011-10-28</td>\n",
       "      <td>1224553963904782336</td>\n",
       "      <td>China tech's response to #nCoV continues to be...</td>\n",
       "      <td>2020-02-04</td>\n",
       "      <td>04:43:10</td>\n",
       "      <td>China tech response to  continues to be fascin...</td>\n",
       "      <td>1</td>\n",
       "    </tr>\n",
       "    <tr>\n",
       "      <td>37478</td>\n",
       "      <td>35607021</td>\n",
       "      <td>727</td>\n",
       "      <td>65</td>\n",
       "      <td>2540</td>\n",
       "      <td>35472</td>\n",
       "      <td>0</td>\n",
       "      <td>Toronto</td>\n",
       "      <td>2009-04-27</td>\n",
       "      <td>1224553965582503937</td>\n",
       "      <td>confirmed: the coronavirus can stop bombs http...</td>\n",
       "      <td>2020-02-04</td>\n",
       "      <td>04:43:11</td>\n",
       "      <td>confirmed: the coronavirus can stop bombs</td>\n",
       "      <td>2</td>\n",
       "    </tr>\n",
       "  </tbody>\n",
       "</table>\n",
       "<p>37479 rows × 14 columns</p>\n",
       "</div>"
      ],
      "text/plain": [
       "                   User_Id  User_Friends_Count  User_Listed_Count  \\\n",
       "0               3906515918                9826                  8   \n",
       "1      1147389922782801920                 781                  1   \n",
       "2      1147389922782801920                 781                  1   \n",
       "3      1147389922782801920                 781                  1   \n",
       "4      1147389922782801920                 781                  1   \n",
       "...                    ...                 ...                ...   \n",
       "37474   991119073303031809                1771                 22   \n",
       "37475            325268721                3601                 16   \n",
       "37476  1152331057846464512                2038                  1   \n",
       "37477            399985113                 771                 72   \n",
       "37478             35607021                 727                 65   \n",
       "\n",
       "       User_Favourites_Count  User_Statuses_Count  User_Verified  \\\n",
       "0                      52573                80411              0   \n",
       "1                      10211                 3090              0   \n",
       "2                      10211                 3090              0   \n",
       "3                      10252                 3106              0   \n",
       "4                      10252                 3106              0   \n",
       "...                      ...                  ...            ...   \n",
       "37474                  50905                14682              0   \n",
       "37475                  71060                74497              0   \n",
       "37476                  15300                 5028              0   \n",
       "37477                   4833                 2362              0   \n",
       "37478                   2540                35472              0   \n",
       "\n",
       "                User_Location   Date_user                tweet_id  \\\n",
       "0      the planet of Kashyyyk  2015-10-15   \"1224513118593802241\"   \n",
       "1                   Hong Kong  2019-07-06     1224515552493727744   \n",
       "2                   Hong Kong  2019-07-06     1224535811246264321   \n",
       "3                   Hong Kong  2019-07-06     1224515552493727744   \n",
       "4                   Hong Kong  2019-07-06     1224535811246264321   \n",
       "...                       ...         ...                     ...   \n",
       "37474                   Chile  2018-05-01     1224553947748282368   \n",
       "37475             Choctaw, OK  2011-06-28     1224553952148099072   \n",
       "37476                 Toronto  2019-07-19     1224553953934946305   \n",
       "37477   Merelbeke ~ Rotterdam  2011-10-28     1224553963904782336   \n",
       "37478                 Toronto  2009-04-27     1224553965582503937   \n",
       "\n",
       "                                          Extended_Tweet        Date  \\\n",
       "0      Watch what happened at 45:26 in @trumpet_news'...  2020-02-04   \n",
       "1      \"The government is useless. They should close ...  2020-02-04   \n",
       "2      JUST IN: #Coronavirus: #HongKong's Carrie Lam ...  2020-02-04   \n",
       "3      \"The government is useless. They should close ...  2020-02-04   \n",
       "4      JUST IN: #Coronavirus: #HongKong's Carrie Lam ...  2020-02-04   \n",
       "...                                                  ...         ...   \n",
       "37474  China releases for #Dolittle, #1917Movie, #Joj...  2020-02-04   \n",
       "37475  The #coronavirus has hit the #IowaCaucus and t...  2020-02-04   \n",
       "37476  Did you donate to the Red Cross to help with t...  2020-02-04   \n",
       "37477  China tech's response to #nCoV continues to be...  2020-02-04   \n",
       "37478  confirmed: the coronavirus can stop bombs http...  2020-02-04   \n",
       "\n",
       "           Time                                             Tweets  prediction  \n",
       "0      02:00:52  Watch what happened at  in  broadcast: LIVE:  ...           2  \n",
       "1      02:10:32  \"The government is useless. They should close ...           2  \n",
       "2      03:31:02  JUST IN:   Carrie Lam denied there are politic...           0  \n",
       "3      02:10:32  \"The government is useless. They should close ...           2  \n",
       "4      03:31:02  JUST IN:   Carrie Lam denied there are politic...           0  \n",
       "...         ...                                                ...         ...  \n",
       "37474  04:43:06      China releases for    canceled amid  crisis             2  \n",
       "37475  04:43:07  The  has hit the  and the votes are under quar...           2  \n",
       "37476  04:43:08  Did you donate to the Red Cross to help with t...           2  \n",
       "37477  04:43:10  China tech response to  continues to be fascin...           1  \n",
       "37478  04:43:11         confirmed: the coronavirus can stop bombs            2  \n",
       "\n",
       "[37479 rows x 14 columns]"
      ]
     },
     "execution_count": 45,
     "metadata": {},
     "output_type": "execute_result"
    }
   ],
   "source": [
    "df_last=pd.merge(df_u,df_c,on='User_Id')\n",
    "df_last"
   ]
  },
  {
   "cell_type": "code",
   "execution_count": 47,
   "metadata": {
    "scrolled": true
   },
   "outputs": [
    {
     "data": {
      "text/plain": [
       "User_Id                  0\n",
       "User_Friends_Count       0\n",
       "User_Listed_Count        0\n",
       "User_Favourites_Count    0\n",
       "User_Statuses_Count      0\n",
       "User_Verified            0\n",
       "User_Location            0\n",
       "Date_user                0\n",
       "tweet_id                 0\n",
       "Extended_Tweet           0\n",
       "Date                     0\n",
       "Time                     0\n",
       "Tweets                   0\n",
       "prediction               0\n",
       "dtype: int64"
      ]
     },
     "execution_count": 47,
     "metadata": {},
     "output_type": "execute_result"
    }
   ],
   "source": [
    "df_last.isna().sum()"
   ]
  },
  {
   "cell_type": "code",
   "execution_count": 52,
   "metadata": {},
   "outputs": [
    {
     "data": {
      "text/plain": [
       "User_Location\n",
       "                                   4\n",
       "        Nonthaburi, Thailand       1\n",
       "  Rio de Janeiro - RJ - Brasil    49\n",
       " #AGFC #STR #GGMU                  1\n",
       " 61ᴘᴀʀᴋ ʟᴏᴇʏ                       1\n",
       "                                  ..\n",
       "콜로라도 한남                            1\n",
       "태국                                 1\n",
       "﷽ فَاَيْنَ تَذْهَبُونَ             1\n",
       "Ｎのつく国                              1\n",
       "ﾌｫﾛ前ﾌﾟﾛﾌ一読推奨 / please see twpf     1\n",
       "Name: prediction, Length: 4368, dtype: int64"
      ]
     },
     "execution_count": 52,
     "metadata": {},
     "output_type": "execute_result"
    }
   ],
   "source": [
    "df_last.groupby('User_Location').count()['prediction']"
   ]
  },
  {
   "cell_type": "code",
   "execution_count": 51,
   "metadata": {},
   "outputs": [
    {
     "data": {
      "text/plain": [
       "4368"
      ]
     },
     "execution_count": 51,
     "metadata": {},
     "output_type": "execute_result"
    }
   ],
   "source": [
    "len(df_last['User_Location'].unique())"
   ]
  },
  {
   "cell_type": "markdown",
   "metadata": {},
   "source": [
    "# Some EDA On labeled Coronavirus tweets"
   ]
  },
  {
   "cell_type": "code",
   "execution_count": 2,
   "metadata": {},
   "outputs": [
    {
     "data": {
      "text/html": [
       "<div>\n",
       "<style scoped>\n",
       "    .dataframe tbody tr th:only-of-type {\n",
       "        vertical-align: middle;\n",
       "    }\n",
       "\n",
       "    .dataframe tbody tr th {\n",
       "        vertical-align: top;\n",
       "    }\n",
       "\n",
       "    .dataframe thead th {\n",
       "        text-align: right;\n",
       "    }\n",
       "</style>\n",
       "<table border=\"1\" class=\"dataframe\">\n",
       "  <thead>\n",
       "    <tr style=\"text-align: right;\">\n",
       "      <th></th>\n",
       "      <th>Unnamed: 0</th>\n",
       "      <th>Tweets</th>\n",
       "      <th>prediction</th>\n",
       "    </tr>\n",
       "  </thead>\n",
       "  <tbody>\n",
       "    <tr>\n",
       "      <td>0</td>\n",
       "      <td>0</td>\n",
       "      <td>Watch what happened at  in  broadcast: LIVE:  ...</td>\n",
       "      <td>2</td>\n",
       "    </tr>\n",
       "    <tr>\n",
       "      <td>1</td>\n",
       "      <td>1</td>\n",
       "      <td>And yet, we are relying on science to identif...</td>\n",
       "      <td>0</td>\n",
       "    </tr>\n",
       "    <tr>\n",
       "      <td>2</td>\n",
       "      <td>2</td>\n",
       "      <td>\"The government is useless. They should close ...</td>\n",
       "      <td>2</td>\n",
       "    </tr>\n",
       "    <tr>\n",
       "      <td>3</td>\n",
       "      <td>3</td>\n",
       "      <td>Lockdown in Wuhan: Instructions on how to stop...</td>\n",
       "      <td>0</td>\n",
       "    </tr>\n",
       "    <tr>\n",
       "      <td>4</td>\n",
       "      <td>4</td>\n",
       "      <td>Hey,  still proud of sending millions of masks...</td>\n",
       "      <td>1</td>\n",
       "    </tr>\n",
       "  </tbody>\n",
       "</table>\n",
       "</div>"
      ],
      "text/plain": [
       "   Unnamed: 0                                             Tweets  prediction\n",
       "0           0  Watch what happened at  in  broadcast: LIVE:  ...           2\n",
       "1           1   And yet, we are relying on science to identif...           0\n",
       "2           2  \"The government is useless. They should close ...           2\n",
       "3           3  Lockdown in Wuhan: Instructions on how to stop...           0\n",
       "4           4  Hey,  still proud of sending millions of masks...           1"
      ]
     },
     "execution_count": 2,
     "metadata": {},
     "output_type": "execute_result"
    }
   ],
   "source": [
    "df_label = pd.read_csv('labeled_corona.csv')\n",
    "df_label.head()"
   ]
  },
  {
   "cell_type": "code",
   "execution_count": 3,
   "metadata": {},
   "outputs": [],
   "source": [
    "df_label.drop('Unnamed: 0',axis=1,inplace=True)"
   ]
  },
  {
   "cell_type": "code",
   "execution_count": 4,
   "metadata": {},
   "outputs": [
    {
     "data": {
      "text/html": [
       "<div>\n",
       "<style scoped>\n",
       "    .dataframe tbody tr th:only-of-type {\n",
       "        vertical-align: middle;\n",
       "    }\n",
       "\n",
       "    .dataframe tbody tr th {\n",
       "        vertical-align: top;\n",
       "    }\n",
       "\n",
       "    .dataframe thead th {\n",
       "        text-align: right;\n",
       "    }\n",
       "</style>\n",
       "<table border=\"1\" class=\"dataframe\">\n",
       "  <thead>\n",
       "    <tr style=\"text-align: right;\">\n",
       "      <th></th>\n",
       "      <th>Tweets</th>\n",
       "      <th>prediction</th>\n",
       "    </tr>\n",
       "  </thead>\n",
       "  <tbody>\n",
       "    <tr>\n",
       "      <td>0</td>\n",
       "      <td>Watch what happened at  in  broadcast: LIVE:  ...</td>\n",
       "      <td>2</td>\n",
       "    </tr>\n",
       "    <tr>\n",
       "      <td>1</td>\n",
       "      <td>And yet, we are relying on science to identif...</td>\n",
       "      <td>0</td>\n",
       "    </tr>\n",
       "    <tr>\n",
       "      <td>2</td>\n",
       "      <td>\"The government is useless. They should close ...</td>\n",
       "      <td>2</td>\n",
       "    </tr>\n",
       "    <tr>\n",
       "      <td>3</td>\n",
       "      <td>Lockdown in Wuhan: Instructions on how to stop...</td>\n",
       "      <td>0</td>\n",
       "    </tr>\n",
       "    <tr>\n",
       "      <td>4</td>\n",
       "      <td>Hey,  still proud of sending millions of masks...</td>\n",
       "      <td>1</td>\n",
       "    </tr>\n",
       "  </tbody>\n",
       "</table>\n",
       "</div>"
      ],
      "text/plain": [
       "                                              Tweets  prediction\n",
       "0  Watch what happened at  in  broadcast: LIVE:  ...           2\n",
       "1   And yet, we are relying on science to identif...           0\n",
       "2  \"The government is useless. They should close ...           2\n",
       "3  Lockdown in Wuhan: Instructions on how to stop...           0\n",
       "4  Hey,  still proud of sending millions of masks...           1"
      ]
     },
     "execution_count": 4,
     "metadata": {},
     "output_type": "execute_result"
    }
   ],
   "source": [
    "df_label.head()"
   ]
  },
  {
   "cell_type": "code",
   "execution_count": 5,
   "metadata": {},
   "outputs": [],
   "source": [
    "df_nat=df_label[df_label['prediction']==2] #extracting natural tweets"
   ]
  },
  {
   "cell_type": "code",
   "execution_count": 6,
   "metadata": {},
   "outputs": [],
   "source": [
    "df_pos=df_label[df_label['prediction']==1]#extracting positive tweets"
   ]
  },
  {
   "cell_type": "code",
   "execution_count": 7,
   "metadata": {},
   "outputs": [],
   "source": [
    "df_neg=df_label[df_label['prediction']==0]#extracting negative tweets"
   ]
  },
  {
   "cell_type": "code",
   "execution_count": 20,
   "metadata": {},
   "outputs": [],
   "source": [
    "# preprocess and clean the tweets\n",
    "import string\n",
    "#nltk.download('stopwords')\n",
    "import nltk\n",
    "from nltk.corpus import stopwords \n",
    "ENGLISH_STOP_WORDS = stopwords.words('english')\n",
    "\n",
    "def my_tokenizer(sentence):\n",
    "\n",
    "    listofwords = sentence.strip().split()# to remove any space from beginning and the end of text\n",
    "    listof_words = []    \n",
    "    for word in listofwords:\n",
    "        if not word in ENGLISH_STOP_WORDS:\n",
    "            lemm_word = WordNetLemmatizer().lemmatize(word)\n",
    "            # remove the stop words\n",
    "            for punctuation_mark in string.punctuation:\n",
    "                word = word.replace(punctuation_mark, '').lower()\n",
    "            if len(word)>0:\n",
    "                listof_words.append(word)\n",
    "    return(listof_words)"
   ]
  },
  {
   "cell_type": "code",
   "execution_count": 21,
   "metadata": {},
   "outputs": [],
   "source": [
    "# vectorize to create the bag of words for natural\n",
    "from sklearn.feature_extraction.text import TfidfVectorizer\n",
    "from nltk.stem import WordNetLemmatizer\n",
    "vect_nat = TfidfVectorizer(min_df=0.01,tokenizer=my_tokenizer, ngram_range = (1,3)).fit(df_nat['Tweets'])\n",
    "X_train_nat = vect_nat.transform(df_nat['Tweets'])"
   ]
  },
  {
   "cell_type": "code",
   "execution_count": 22,
   "metadata": {},
   "outputs": [
    {
     "data": {
      "text/html": [
       "<div>\n",
       "<style scoped>\n",
       "    .dataframe tbody tr th:only-of-type {\n",
       "        vertical-align: middle;\n",
       "    }\n",
       "\n",
       "    .dataframe tbody tr th {\n",
       "        vertical-align: top;\n",
       "    }\n",
       "\n",
       "    .dataframe thead th {\n",
       "        text-align: right;\n",
       "    }\n",
       "</style>\n",
       "<table border=\"1\" class=\"dataframe\">\n",
       "  <thead>\n",
       "    <tr style=\"text-align: right;\">\n",
       "      <th></th>\n",
       "      <th>word</th>\n",
       "      <th>count</th>\n",
       "    </tr>\n",
       "  </thead>\n",
       "  <tbody>\n",
       "    <tr>\n",
       "      <td>73</td>\n",
       "      <td>china</td>\n",
       "      <td>652.784595</td>\n",
       "    </tr>\n",
       "    <tr>\n",
       "      <td>381</td>\n",
       "      <td>outbreak</td>\n",
       "      <td>408.109171</td>\n",
       "    </tr>\n",
       "    <tr>\n",
       "      <td>111</td>\n",
       "      <td>coronavirus</td>\n",
       "      <td>398.743810</td>\n",
       "    </tr>\n",
       "    <tr>\n",
       "      <td>128</td>\n",
       "      <td>death</td>\n",
       "      <td>396.880150</td>\n",
       "    </tr>\n",
       "    <tr>\n",
       "      <td>239</td>\n",
       "      <td>hospital</td>\n",
       "      <td>377.980532</td>\n",
       "    </tr>\n",
       "    <tr>\n",
       "      <td>594</td>\n",
       "      <td>wuhan</td>\n",
       "      <td>369.543243</td>\n",
       "    </tr>\n",
       "    <tr>\n",
       "      <td>62</td>\n",
       "      <td>cases</td>\n",
       "      <td>362.605725</td>\n",
       "    </tr>\n",
       "    <tr>\n",
       "      <td>76</td>\n",
       "      <td>chinese</td>\n",
       "      <td>336.953781</td>\n",
       "    </tr>\n",
       "    <tr>\n",
       "      <td>98</td>\n",
       "      <td>confirmed</td>\n",
       "      <td>332.210715</td>\n",
       "    </tr>\n",
       "    <tr>\n",
       "      <td>400</td>\n",
       "      <td>people</td>\n",
       "      <td>321.242193</td>\n",
       "    </tr>\n",
       "  </tbody>\n",
       "</table>\n",
       "</div>"
      ],
      "text/plain": [
       "            word       count\n",
       "73         china  652.784595\n",
       "381     outbreak  408.109171\n",
       "111  coronavirus  398.743810\n",
       "128        death  396.880150\n",
       "239     hospital  377.980532\n",
       "594        wuhan  369.543243\n",
       "62         cases  362.605725\n",
       "76       chinese  336.953781\n",
       "98     confirmed  332.210715\n",
       "400       people  321.242193"
      ]
     },
     "execution_count": 22,
     "metadata": {},
     "output_type": "execute_result"
    }
   ],
   "source": [
    "#counting words for natural tweets\n",
    "word_counts = np.array(np.sum(X_train_nat, axis=0)).reshape((-1,))\n",
    "words_nat = np.array(vect_nat.get_feature_names())\n",
    "words_df_nat = pd.DataFrame({\"word\":words_nat, \n",
    "                     \"count\":word_counts})\n",
    "words_df_nat.sort_values(by=\"count\", ascending=False).head(10)"
   ]
  },
  {
   "cell_type": "code",
   "execution_count": 23,
   "metadata": {},
   "outputs": [],
   "source": [
    "# vectorize to create the bag of words for positive\n",
    "vect_pos = TfidfVectorizer(min_df=0.01,tokenizer=my_tokenizer, ngram_range = (1,3)).fit(df_pos['Tweets'])\n",
    "X_train_pos = vect_pos.transform(df_pos['Tweets'])"
   ]
  },
  {
   "cell_type": "code",
   "execution_count": 24,
   "metadata": {},
   "outputs": [
    {
     "data": {
      "text/html": [
       "<div>\n",
       "<style scoped>\n",
       "    .dataframe tbody tr th:only-of-type {\n",
       "        vertical-align: middle;\n",
       "    }\n",
       "\n",
       "    .dataframe tbody tr th {\n",
       "        vertical-align: top;\n",
       "    }\n",
       "\n",
       "    .dataframe thead th {\n",
       "        text-align: right;\n",
       "    }\n",
       "</style>\n",
       "<table border=\"1\" class=\"dataframe\">\n",
       "  <thead>\n",
       "    <tr style=\"text-align: right;\">\n",
       "      <th></th>\n",
       "      <th>word</th>\n",
       "      <th>count</th>\n",
       "    </tr>\n",
       "  </thead>\n",
       "  <tbody>\n",
       "    <tr>\n",
       "      <td>17</td>\n",
       "      <td>amp</td>\n",
       "      <td>243.360957</td>\n",
       "    </tr>\n",
       "    <tr>\n",
       "      <td>398</td>\n",
       "      <td>people</td>\n",
       "      <td>193.258141</td>\n",
       "    </tr>\n",
       "    <tr>\n",
       "      <td>474</td>\n",
       "      <td>see</td>\n",
       "      <td>175.287729</td>\n",
       "    </tr>\n",
       "    <tr>\n",
       "      <td>66</td>\n",
       "      <td>china</td>\n",
       "      <td>174.009003</td>\n",
       "    </tr>\n",
       "    <tr>\n",
       "      <td>243</td>\n",
       "      <td>hospital</td>\n",
       "      <td>151.023807</td>\n",
       "    </tr>\n",
       "    <tr>\n",
       "      <td>191</td>\n",
       "      <td>flu</td>\n",
       "      <td>143.933012</td>\n",
       "    </tr>\n",
       "    <tr>\n",
       "      <td>362</td>\n",
       "      <td>nothing</td>\n",
       "      <td>132.509581</td>\n",
       "    </tr>\n",
       "    <tr>\n",
       "      <td>363</td>\n",
       "      <td>nothing see</td>\n",
       "      <td>119.046126</td>\n",
       "    </tr>\n",
       "    <tr>\n",
       "      <td>572</td>\n",
       "      <td>totally</td>\n",
       "      <td>116.526697</td>\n",
       "    </tr>\n",
       "    <tr>\n",
       "      <td>603</td>\n",
       "      <td>video</td>\n",
       "      <td>116.319494</td>\n",
       "    </tr>\n",
       "  </tbody>\n",
       "</table>\n",
       "</div>"
      ],
      "text/plain": [
       "            word       count\n",
       "17           amp  243.360957\n",
       "398       people  193.258141\n",
       "474          see  175.287729\n",
       "66         china  174.009003\n",
       "243     hospital  151.023807\n",
       "191          flu  143.933012\n",
       "362      nothing  132.509581\n",
       "363  nothing see  119.046126\n",
       "572      totally  116.526697\n",
       "603        video  116.319494"
      ]
     },
     "execution_count": 24,
     "metadata": {},
     "output_type": "execute_result"
    }
   ],
   "source": [
    "#counting word for positive tweets\n",
    "word_counts = np.array(np.sum(X_train_pos, axis=0)).reshape((-1,))\n",
    "words_pos = np.array(vect_pos.get_feature_names())\n",
    "words_df_pos = pd.DataFrame({\"word\":words_pos, \n",
    "                     \"count\":word_counts})\n",
    "words_df_pos.sort_values(by=\"count\", ascending=False).head(10)"
   ]
  },
  {
   "cell_type": "code",
   "execution_count": 22,
   "metadata": {},
   "outputs": [],
   "source": [
    "vect_neg = TfidfVectorizer(min_df=0.01,tokenizer=my_tokenizer, ngram_range = (1,3)).fit(df_neg['Tweets'])\n",
    "X_train_neg = vect_neg.transform(df_neg['Tweets'])"
   ]
  },
  {
   "cell_type": "code",
   "execution_count": 23,
   "metadata": {},
   "outputs": [
    {
     "data": {
      "text/html": [
       "<div>\n",
       "<style scoped>\n",
       "    .dataframe tbody tr th:only-of-type {\n",
       "        vertical-align: middle;\n",
       "    }\n",
       "\n",
       "    .dataframe tbody tr th {\n",
       "        vertical-align: top;\n",
       "    }\n",
       "\n",
       "    .dataframe thead th {\n",
       "        text-align: right;\n",
       "    }\n",
       "</style>\n",
       "<table border=\"1\" class=\"dataframe\">\n",
       "  <thead>\n",
       "    <tr style=\"text-align: right;\">\n",
       "      <th></th>\n",
       "      <th>word</th>\n",
       "      <th>count</th>\n",
       "    </tr>\n",
       "  </thead>\n",
       "  <tbody>\n",
       "    <tr>\n",
       "      <td>332</td>\n",
       "      <td>like</td>\n",
       "      <td>85.717837</td>\n",
       "    </tr>\n",
       "    <tr>\n",
       "      <td>65</td>\n",
       "      <td>china</td>\n",
       "      <td>82.484456</td>\n",
       "    </tr>\n",
       "    <tr>\n",
       "      <td>421</td>\n",
       "      <td>people</td>\n",
       "      <td>80.768476</td>\n",
       "    </tr>\n",
       "    <tr>\n",
       "      <td>644</td>\n",
       "      <td>virus</td>\n",
       "      <td>59.487356</td>\n",
       "    </tr>\n",
       "    <tr>\n",
       "      <td>352</td>\n",
       "      <td>many</td>\n",
       "      <td>58.393795</td>\n",
       "    </tr>\n",
       "    <tr>\n",
       "      <td>98</td>\n",
       "      <td>coronavirus</td>\n",
       "      <td>51.336601</td>\n",
       "    </tr>\n",
       "    <tr>\n",
       "      <td>380</td>\n",
       "      <td>need</td>\n",
       "      <td>50.764764</td>\n",
       "    </tr>\n",
       "    <tr>\n",
       "      <td>397</td>\n",
       "      <td>one</td>\n",
       "      <td>49.110840</td>\n",
       "    </tr>\n",
       "    <tr>\n",
       "      <td>647</td>\n",
       "      <td>want</td>\n",
       "      <td>46.077942</td>\n",
       "    </tr>\n",
       "    <tr>\n",
       "      <td>415</td>\n",
       "      <td>outbreak</td>\n",
       "      <td>43.293564</td>\n",
       "    </tr>\n",
       "  </tbody>\n",
       "</table>\n",
       "</div>"
      ],
      "text/plain": [
       "            word      count\n",
       "332         like  85.717837\n",
       "65         china  82.484456\n",
       "421       people  80.768476\n",
       "644        virus  59.487356\n",
       "352         many  58.393795\n",
       "98   coronavirus  51.336601\n",
       "380         need  50.764764\n",
       "397          one  49.110840\n",
       "647         want  46.077942\n",
       "415     outbreak  43.293564"
      ]
     },
     "execution_count": 23,
     "metadata": {},
     "output_type": "execute_result"
    }
   ],
   "source": [
    "#counting words for negative tweets\n",
    "word_counts = np.array(np.sum(X_train_neg, axis=0)).reshape((-1,))\n",
    "words_neg = np.array(vect_neg.get_feature_names())\n",
    "words_df_neg = pd.DataFrame({\"word\":words_neg, \n",
    "                     \"count\":word_counts})\n",
    "words_df_neg.sort_values(by=\"count\", ascending=False).head(10)"
   ]
  },
  {
   "cell_type": "code",
   "execution_count": 13,
   "metadata": {},
   "outputs": [],
   "source": [
    "from wordcloud import WordCloud\n",
    "from os import path\n",
    "from PIL import Image"
   ]
  },
  {
   "cell_type": "code",
   "execution_count": 18,
   "metadata": {},
   "outputs": [
    {
     "data": {
      "image/png": "[encoded data removed]",
      "text/plain": [
       "<Figure size 432x432 with 1 Axes>"
      ]
     },
     "metadata": {
      "needs_background": "light"
     },
     "output_type": "display_data"
    }
   ],
   "source": [
    "# creating word cloud for negative\n",
    "text = \" \".join(i for i in df_neg.Tweets)\n",
    "wordcloud = WordCloud(max_font_size=50, background_color=\"black\").generate(text)\n",
    "plt.figure(figsize=(6,6))\n",
    "plt.imshow(wordcloud, interpolation=\"bilinear\")\n",
    "plt.axis(\"off\")\n",
    "plt.show()"
   ]
  },
  {
   "cell_type": "code",
   "execution_count": 58,
   "metadata": {},
   "outputs": [
    {
     "data": {
      "image/png": "[encoded data removed]",
      "text/plain": [
       "<Figure size 720x720 with 1 Axes>"
      ]
     },
     "metadata": {
      "needs_background": "light"
     },
     "output_type": "display_data"
    }
   ],
   "source": [
    "# creating word cloud for positive tweets\n",
    "text = \" \".join(i for i in df_pos.Tweets)\n",
    "wordcloud = WordCloud(max_font_size=50, background_color=\"white\").generate(text)\n",
    "plt.figure(figsize=(10,10))\n",
    "plt.imshow(wordcloud, interpolation=\"bilinear\")\n",
    "plt.axis(\"off\")\n",
    "plt.show()"
   ]
  },
  {
   "cell_type": "code",
   "execution_count": 25,
   "metadata": {},
   "outputs": [
    {
     "data": {
      "image/png": "[encoded data removed]",
      "text/plain": [
       "<Figure size 720x576 with 1 Axes>"
      ]
     },
     "metadata": {
      "needs_background": "light"
     },
     "output_type": "display_data"
    }
   ],
   "source": [
    "# creating word cloud for natural tweets\n",
    "text = \" \".join(i for i in df_nat.Tweets)\n",
    "wordcloud = WordCloud(max_font_size=50, background_color=\"white\").generate(text)\n",
    "plt.figure(figsize=(10,8))\n",
    "plt.imshow(wordcloud, interpolation=\"bilinear\")\n",
    "plt.axis(\"off\")\n",
    "plt.show()"
   ]
  },
  {
   "cell_type": "code",
   "execution_count": null,
   "metadata": {},
   "outputs": [],
   "source": []
  }
 ],
 "metadata": {
  "kernelspec": {
   "display_name": "Python 3",
   "language": "python",
   "name": "python3"
  },
  "language_info": {
   "codemirror_mode": {
    "name": "ipython",
    "version": 3
   },
   "file_extension": ".py",
   "mimetype": "text/x-python",
   "name": "python",
   "nbconvert_exporter": "python",
   "pygments_lexer": "ipython3",
   "version": "3.7.4"
  }
 },
 "nbformat": 4,
 "nbformat_minor": 2
}
